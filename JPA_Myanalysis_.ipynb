{
 "cells": [
  {
   "cell_type": "code",
   "execution_count": null,
   "metadata": {},
   "outputs": [],
   "source": [
    "##import libraries\n",
    "\n",
    "import pandas as pd\n",
    "import numpy as np\n",
    "import seaborn as sns\n",
    "from matplotlib import pyplot as plt\n",
    "\n",
    "import warnings\n",
    "warnings.filterwarnings(\"ignore\")\n"
   ]
  },
  {
   "cell_type": "code",
   "execution_count": null,
   "metadata": {},
   "outputs": [],
   "source": [
    "##load dataset\n",
    "\n",
    "df = pd.read_csv(\"/Users/xlade/Desktop/Amdari/Internship/Project_2_Jewelry_Price_Optimization/Jewelry_Dataset.csv\")\n",
    "#df.head(5)"
   ]
  },
  {
   "cell_type": "code",
   "execution_count": null,
   "metadata": {},
   "outputs": [],
   "source": [
    "## Assign column names to the dataset\n",
    "\n",
    "df.columns = [\n",
    "    \"Order_Datetime\",\n",
    "    \"Order_ID\",\n",
    "    \"Product_ID\",\n",
    "    'SKU_Quantity',\n",
    "    'Category_ID',\n",
    "    'Category',\n",
    "    'Brand_ID',\n",
    "    \"Price_USD\",\n",
    "    \"User_ID\",\n",
    "    \"Target_Gender\",\n",
    "    \"Main_Color\", \n",
    "    \"Main_metal\",\n",
    "    \"Main_Gem\"\n",
    "]"
   ]
  },
  {
   "cell_type": "code",
   "execution_count": null,
   "metadata": {},
   "outputs": [],
   "source": [
    "df.head(5)"
   ]
  },
  {
   "cell_type": "code",
   "execution_count": null,
   "metadata": {},
   "outputs": [],
   "source": [
    "## check for missing values\n",
    "df.isnull().sum()"
   ]
  },
  {
   "cell_type": "code",
   "execution_count": null,
   "metadata": {},
   "outputs": [],
   "source": [
    "#know the data shape\n",
    "\n",
    "df.shape"
   ]
  },
  {
   "cell_type": "code",
   "execution_count": null,
   "metadata": {},
   "outputs": [],
   "source": [
    "## check fro duplicated rows\n",
    "df.duplicated().sum()"
   ]
  },
  {
   "cell_type": "code",
   "execution_count": null,
   "metadata": {},
   "outputs": [],
   "source": [
    "## check nunique values\n",
    "df.nunique()"
   ]
  },
  {
   "cell_type": "code",
   "execution_count": null,
   "metadata": {},
   "outputs": [],
   "source": [
    "df.info()"
   ]
  },
  {
   "cell_type": "code",
   "execution_count": null,
   "metadata": {},
   "outputs": [],
   "source": [
    "df.describe()"
   ]
  },
  {
   "cell_type": "code",
   "execution_count": null,
   "metadata": {},
   "outputs": [],
   "source": [
    "## drop duplicated rows\n",
    "df = df.drop_duplicates()\n"
   ]
  },
  {
   "cell_type": "code",
   "execution_count": null,
   "metadata": {},
   "outputs": [],
   "source": [
    "#check the isnull values again\n",
    "df.isnull().sum()"
   ]
  },
  {
   "cell_type": "code",
   "execution_count": null,
   "metadata": {},
   "outputs": [],
   "source": [
    "## Look through category feature\n",
    "df[\"Category\"].unique()"
   ]
  },
  {
   "cell_type": "code",
   "execution_count": null,
   "metadata": {},
   "outputs": [],
   "source": [
    "##filter out the real categories\n",
    "\n",
    "real_categories = df[\"Category\"].unique().tolist()\n",
    "real_categories = [c for c in real_categories if isinstance(c, str) and \"jewelry\" in c ]\n",
    "real_categories"
   ]
  },
  {
   "cell_type": "code",
   "execution_count": null,
   "metadata": {},
   "outputs": [],
   "source": [
    "df_category = df.loc[df[\"Category\"].isin(real_categories)]\n",
    "df_category"
   ]
  },
  {
   "cell_type": "code",
   "execution_count": null,
   "metadata": {},
   "outputs": [],
   "source": [
    "## haven filtered out the wrong cats check  isnull again\n",
    "df_category.isnull().sum()"
   ]
  },
  {
   "cell_type": "code",
   "execution_count": null,
   "metadata": {},
   "outputs": [],
   "source": [
    "## check Target gender\n",
    "df_category[\"Target_Gender\"].value_counts()"
   ]
  },
  {
   "cell_type": "code",
   "execution_count": null,
   "metadata": {},
   "outputs": [],
   "source": [
    "df_category[\"Target_Gender\"] = df_category[\"Target_Gender\"].fillna(df_category[\"Target_Gender\"].mode()[0])"
   ]
  },
  {
   "cell_type": "code",
   "execution_count": null,
   "metadata": {},
   "outputs": [],
   "source": [
    "df_category.head(5)"
   ]
  },
  {
   "cell_type": "code",
   "execution_count": null,
   "metadata": {},
   "outputs": [],
   "source": [
    "df_category.isnull().sum()"
   ]
  },
  {
   "cell_type": "code",
   "execution_count": null,
   "metadata": {},
   "outputs": [],
   "source": [
    "df_category.shape"
   ]
  },
  {
   "cell_type": "code",
   "execution_count": null,
   "metadata": {},
   "outputs": [],
   "source": [
    "## drop the rest of thr null rows\n",
    "\n",
    "df_category = df_category.dropna()"
   ]
  },
  {
   "cell_type": "code",
   "execution_count": null,
   "metadata": {},
   "outputs": [],
   "source": [
    "## confirm the isnull is gone\n",
    "df_category.isnull().sum()"
   ]
  },
  {
   "cell_type": "code",
   "execution_count": null,
   "metadata": {},
   "outputs": [],
   "source": [
    "## confirm the new data size\n",
    "\n",
    "df_category.shape"
   ]
  },
  {
   "cell_type": "code",
   "execution_count": null,
   "metadata": {},
   "outputs": [],
   "source": [
    "## Observe the unique values again\n",
    "\n",
    "df_category.nunique()"
   ]
  },
  {
   "cell_type": "code",
   "execution_count": null,
   "metadata": {},
   "outputs": [],
   "source": [
    "df_category.head(5)"
   ]
  },
  {
   "cell_type": "markdown",
   "metadata": {},
   "source": [
    "## Univariate Analysis"
   ]
  },
  {
   "cell_type": "code",
   "execution_count": null,
   "metadata": {},
   "outputs": [],
   "source": [
    "## category count plot\n",
    "\n",
    "plt.figure(figsize = (15, 8))\n",
    "\n",
    "sns.countplot(data = df_category, x = \"Category\")\n",
    "\n",
    "plt.xlabel(\"Jewelry categories\")\n",
    "plt.ylabel(\"Category frequency\")\n",
    "\n",
    "plt.show(); plt.close()"
   ]
  },
  {
   "cell_type": "code",
   "execution_count": null,
   "metadata": {},
   "outputs": [],
   "source": [
    "## visualize target gender\n",
    "\n",
    "plt.figure(figsize = (10, 5))\n",
    "\n",
    "sns.countplot(data = df_category, x = \"Target_Gender\")\n",
    "\n",
    "plt.xlabel(\"Gender\")\n",
    "plt.ylabel(\"Gender Frequency\")\n",
    "\n",
    "plt.tight_layout()\n",
    "plt.show()\n",
    "\n"
   ]
  },
  {
   "cell_type": "code",
   "execution_count": null,
   "metadata": {},
   "outputs": [],
   "source": [
    "## visualize target gender\n",
    "\n",
    "plt.figure(figsize = (10, 5))\n",
    "\n",
    "sns.countplot(data = df_category, x = \"Main_Color\")\n",
    "\n",
    "plt.xlabel(\"Main Colour sold\")\n",
    "plt.ylabel(\"Main colour Frequency\")\n",
    "\n",
    "plt.tight_layout()\n",
    "plt.show()"
   ]
  },
  {
   "cell_type": "code",
   "execution_count": null,
   "metadata": {},
   "outputs": [],
   "source": [
    "## visualize target gender\n",
    "\n",
    "plt.figure(figsize = (20, 5))\n",
    "\n",
    "sns.countplot(data = df_category, x = \"Main_Gem\")\n",
    "\n",
    "plt.xlabel(\"Main Gem sold\")\n",
    "plt.ylabel(\"Main Gem Frequency\")\n",
    "plt.xticks(rotation=45)\n",
    "\n",
    "plt.tight_layout()\n",
    "plt.show()"
   ]
  },
  {
   "cell_type": "markdown",
   "metadata": {},
   "source": [
    "## Bivariate Analysis"
   ]
  },
  {
   "cell_type": "code",
   "execution_count": null,
   "metadata": {},
   "outputs": [],
   "source": [
    "## category count plot\n",
    "\n",
    "plt.figure(figsize = (15, 8))\n",
    "\n",
    "sns.countplot(data = df_category, x = \"Category\", hue=\"Target_Gender\")\n",
    "\n",
    "plt.xlabel(\"Jewelry categories\")\n",
    "plt.ylabel(\"Category frequency\")\n",
    "plt.xticks(rotation=45)\n",
    "\n",
    "plt.tight_layout()\n",
    "plt.show(); plt.close()"
   ]
  },
  {
   "cell_type": "markdown",
   "metadata": {},
   "source": [
    "## Feature Engineering"
   ]
  },
  {
   "cell_type": "code",
   "execution_count": null,
   "metadata": {},
   "outputs": [],
   "source": [
    "## Label Encoding\n",
    "\n",
    "from sklearn.preprocessing import LabelEncoder"
   ]
  },
  {
   "cell_type": "code",
   "execution_count": null,
   "metadata": {},
   "outputs": [],
   "source": [
    "## Encode the categorical variables\n",
    "\n",
    "le = LabelEncoder()\n",
    "\n",
    "df_category[\"Category\"] = le.fit_transform(df_category[\"Category\"])\n",
    "df_category[\"Target_Gender\"] = le.fit_transform(df_category[\"Target_Gender\"])\n",
    "df_category[\"Main_Color\"] = le.fit_transform(df_category[\"Main_Color\"])\n",
    "df_category[\"Main_metal\"] = le.fit_transform(df_category[\"Main_metal\"])\n",
    "df_category[\"Main_Gem\"] = le.fit_transform(df_category[\"Main_Gem\"])"
   ]
  },
  {
   "cell_type": "code",
   "execution_count": null,
   "metadata": {},
   "outputs": [],
   "source": [
    "##confirm that the features are now encoded\n",
    "\n",
    "df_category.head(5)"
   ]
  },
  {
   "cell_type": "code",
   "execution_count": null,
   "metadata": {},
   "outputs": [],
   "source": [
    "## feature correlation\n",
    "correlation = df_category.drop(labels=[\"Order_Datetime\", \"SKU_Quantity\", \"Main_metal\"], axis = 1).corr(method = \"spearman\")"
   ]
  },
  {
   "cell_type": "code",
   "execution_count": null,
   "metadata": {},
   "outputs": [],
   "source": [
    "correlation"
   ]
  },
  {
   "cell_type": "code",
   "execution_count": null,
   "metadata": {},
   "outputs": [],
   "source": [
    "## correlation heatmap\n",
    "\n",
    "plt.figure(figsize = (10,10))\n",
    "\n",
    "sns.heatmap(correlation, annot = True, center = .3)\n",
    "\n",
    "plt.show(); plt.close()"
   ]
  },
  {
   "cell_type": "code",
   "execution_count": null,
   "metadata": {},
   "outputs": [],
   "source": [
    "invariant_column = df_category.nunique()[df_category.nunique() == 1].index.tolist()\n",
    "invariant_column"
   ]
  },
  {
   "cell_type": "code",
   "execution_count": null,
   "metadata": {},
   "outputs": [],
   "source": [
    "## Drop columns with nunique == 1\n",
    "\n",
    "df_category.drop(labels=invariant_column, axis = 1, inplace=True)"
   ]
  },
  {
   "cell_type": "code",
   "execution_count": null,
   "metadata": {},
   "outputs": [],
   "source": [
    "columns_to_eliminate = [\"Order_Datetime\", \"Order_ID\", \"Product_ID\", \"Category_ID\", \"User_ID\"]"
   ]
  },
  {
   "cell_type": "code",
   "execution_count": null,
   "metadata": {},
   "outputs": [],
   "source": [
    "df_category.drop(labels=columns_to_eliminate, axis = 1, inplace=True)"
   ]
  },
  {
   "cell_type": "code",
   "execution_count": null,
   "metadata": {},
   "outputs": [],
   "source": [
    "df_category.head(5)"
   ]
  },
  {
   "cell_type": "code",
   "execution_count": null,
   "metadata": {},
   "outputs": [],
   "source": [
    "### Seperate label from the rest of the data\n",
    "\n",
    "df1 = df_category[[\"Category\", \"Brand_ID\", \"Target_Gender\", \"Main_Color\", \"Main_Gem\"]]\n",
    "label = df_category[[\"Price_USD\"]]"
   ]
  },
  {
   "cell_type": "code",
   "execution_count": null,
   "metadata": {},
   "outputs": [],
   "source": [
    "df1.head(5)"
   ]
  },
  {
   "cell_type": "code",
   "execution_count": null,
   "metadata": {},
   "outputs": [],
   "source": [
    "label.head(5)"
   ]
  },
  {
   "cell_type": "markdown",
   "metadata": {},
   "source": [
    "## Machine Learning"
   ]
  },
  {
   "cell_type": "code",
   "execution_count": null,
   "metadata": {},
   "outputs": [],
   "source": [
    "## import \n",
    "from sklearn.preprocessing import OrdinalEncoder, LabelEncoder, OneHotEncoder\n",
    "from sklearn.compose import TransformedTargetRegressor, ColumnTransformer\n",
    "from sklearn.impute import SimpleImputer\n",
    "\n",
    "\n",
    "#Evaluation metrics\n",
    "from sklearn.metrics import accuracy_score, precision_score, recall_score, roc_auc_score\n",
    "from sklearn.metrics import confusion_matrix\n",
    "from sklearn.metrics import mean_squared_error, mean_absolute_error, r2_score\n",
    "\n",
    "\n",
    "# for data preprocessing\n",
    "from sklearn.model_selection import train_test_split\n",
    "\n",
    "# Classifier Libraries\n",
    "from sklearn.linear_model import LinearRegression\n",
    "from sklearn.ensemble import AdaBoostRegressor, ExtraTreesRegressor\n",
    "from catboost import CatBoostRegressor\n",
    "\n",
    "from sklearn.preprocessing import PowerTransformer\n",
    "\n"
   ]
  },
  {
   "cell_type": "code",
   "execution_count": null,
   "metadata": {},
   "outputs": [],
   "source": [
    "import mlflow\n",
    "import mlflow.sklearn  # Use the relevant MLflow module for your model type\n",
    "import os"
   ]
  },
  {
   "cell_type": "code",
   "execution_count": null,
   "metadata": {},
   "outputs": [],
   "source": [
    "\n",
    "# Set the tracking URI to the new folder inside Jewelry_Price_Optimization\n",
    "mlflow.set_tracking_uri(\"file:///Users/xlade/Desktop/Amdari/Internship/Jewelry_Price_Optimization/mlruns_storage\")\n",
    "mlflow.set_experiment(\"Test_Experiment\")"
   ]
  },
  {
   "cell_type": "code",
   "execution_count": null,
   "metadata": {},
   "outputs": [],
   "source": [
    "# split the dataset into training and test sets x = questions, Y = Answers\n",
    "\n",
    "X_train, X_test, y_train, y_test = train_test_split(df1, label, test_size = 0.1, random_state = 42)"
   ]
  },
  {
   "cell_type": "code",
   "execution_count": null,
   "metadata": {},
   "outputs": [],
   "source": [
    "# module building\n",
    "\n",
    "#logistic regression\n",
    "\n",
    "linreg = LinearRegression()\n",
    "\n",
    "linreg.fit(X_train, y_train)\n",
    "\n",
    "lin_y_pred = linreg.predict(X_test)\n",
    "\n",
    "print(\"Linear Regression\")\n",
    "\n",
    "print(\"Mean Absolute Error:\", mean_absolute_error(y_test, lin_y_pred))\n",
    "print(\"Mean Squared Error:\", mean_squared_error(y_test, lin_y_pred))\n",
    "print(\"R2 Score:\", r2_score(y_test, lin_y_pred))\n",
    "#print(\"Accuracy:\", accuracy_score(y_test, lin_y_pred))\n",
    "#print(\"Precision:\", precision_score(y_test, lin_y_pred))\n",
    "#print(\"Recall:\", recall_score(y_test, lin_y_pred))\n",
    "#print(\"F1-score:\", f1_score(y_test, lin_y_pred))\n",
    "#print(\"AUC-ROC:\", roc_auc_score(y_test, lin_y_pred))"
   ]
  },
  {
   "cell_type": "code",
   "execution_count": null,
   "metadata": {},
   "outputs": [],
   "source": [
    "# module building\n",
    "\n",
    "#Adaboost regression\n",
    "\n",
    "adaboost = AdaBoostRegressor(loss = \"exponential\", n_estimators=1000, learning_rate=0.1)\n",
    "\n",
    "adaboost.fit(X_train, y_train)\n",
    "\n",
    "adaboost_y_pred = adaboost.predict(X_test)\n",
    "\n",
    "print(\"Adaboost Regression\")\n",
    "\n",
    "print(\"Mean Absolute Error:\", mean_absolute_error(y_test, adaboost_y_pred))\n",
    "print(\"Mean Squared Error:\", mean_squared_error(y_test, adaboost_y_pred))\n",
    "print(\"R2 Score:\", r2_score(y_test, adaboost_y_pred))\n"
   ]
  },
  {
   "cell_type": "code",
   "execution_count": null,
   "metadata": {},
   "outputs": [],
   "source": [
    "# module building\n",
    "\n",
    "#Catboost regression\n",
    "\n",
    "catboost = CatBoostRegressor(loss_function = \"RMSE\", iterations=10000, learning_rate=0.1, one_hot_max_size = 2, depth=6, verbose=0)\n",
    "\n",
    "catboost.fit(X_train, y_train)\n",
    "\n",
    "catboost_y_pred = catboost.predict(X_test)\n",
    "\n",
    "print(\"Catboost Regression\")\n",
    "\n",
    "print(\"Mean Absolute Error:\", mean_absolute_error(y_test, catboost_y_pred))\n",
    "print(\"Mean Squared Error:\", mean_squared_error(y_test, catboost_y_pred))\n",
    "print(\"R2 Score:\", r2_score(y_test, catboost_y_pred))\n"
   ]
  },
  {
   "cell_type": "code",
   "execution_count": null,
   "metadata": {},
   "outputs": [],
   "source": [
    "# module building\n",
    "\n",
    "#Extra Trees regression\n",
    "\n",
    "ext = ExtraTreesRegressor(criterion=\"friedman_mse\", n_estimators=1000, bootstrap = True, max_depth=10)\n",
    "\n",
    "ext.fit(X_train, y_train)\n",
    "\n",
    "ext_y_pred = ext.predict(X_test)\n",
    "\n",
    "print(\"Extra Tree Regressor\")\n",
    "\n",
    "print(\"Mean Absolute Error:\", mean_absolute_error(y_test, ext_y_pred))\n",
    "print(\"Mean Squared Error:\", mean_squared_error(y_test, ext_y_pred))\n",
    "print(\"R2 Score:\", r2_score(y_test, ext_y_pred))\n"
   ]
  },
  {
   "cell_type": "code",
   "execution_count": null,
   "metadata": {},
   "outputs": [],
   "source": []
  },
  {
   "cell_type": "code",
   "execution_count": null,
   "metadata": {},
   "outputs": [],
   "source": []
  },
  {
   "cell_type": "code",
   "execution_count": null,
   "metadata": {},
   "outputs": [],
   "source": []
  },
  {
   "cell_type": "code",
   "execution_count": null,
   "metadata": {},
   "outputs": [],
   "source": []
  }
 ],
 "metadata": {
  "kernelspec": {
   "display_name": "Python 3",
   "language": "python",
   "name": "python3"
  },
  "language_info": {
   "codemirror_mode": {
    "name": "ipython",
    "version": 3
   },
   "file_extension": ".py",
   "mimetype": "text/x-python",
   "name": "python",
   "nbconvert_exporter": "python",
   "pygments_lexer": "ipython3",
   "version": "3.9.6"
  }
 },
 "nbformat": 4,
 "nbformat_minor": 2
}
