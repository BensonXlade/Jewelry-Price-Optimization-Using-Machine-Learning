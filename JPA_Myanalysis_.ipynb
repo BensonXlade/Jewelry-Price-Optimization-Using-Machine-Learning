{
 "cells": [
  {
   "cell_type": "code",
   "execution_count": 56,
   "metadata": {},
   "outputs": [],
   "source": [
    "##import libraries\n",
    "\n",
    "import pandas as pd\n",
    "import numpy as np\n",
    "import seaborn as sns\n",
    "from matplotlib import pyplot as plt\n",
    "\n",
    "import warnings\n",
    "warnings.filterwarnings(\"ignore\")\n"
   ]
  },
  {
   "cell_type": "code",
   "execution_count": 57,
   "metadata": {},
   "outputs": [],
   "source": [
    "##load dataset\n",
    "\n",
    "df = pd.read_csv(\"/Users/xlade/Desktop/Amdari/Internship/Project_2_Jewelry_Price_Optimization/Jewelry_Dataset.csv\")\n",
    "#df.head(5)"
   ]
  },
  {
   "cell_type": "code",
   "execution_count": 58,
   "metadata": {},
   "outputs": [],
   "source": [
    "## Assign column names to the dataset\n",
    "\n",
    "df.columns = [\n",
    "    \"Order_Datetime\",\n",
    "    \"Order_ID\",\n",
    "    \"Product_ID\",\n",
    "    'SKU_Quantity',\n",
    "    'Category_ID',\n",
    "    'Category',\n",
    "    'Brand_ID',\n",
    "    \"Price_USD\",\n",
    "    \"User_ID\",\n",
    "    \"Target_Gender\",\n",
    "    \"Main_Color\", \n",
    "    \"Main_metal\",\n",
    "    \"Main_Gem\"\n",
    "]"
   ]
  },
  {
   "cell_type": "code",
   "execution_count": 59,
   "metadata": {},
   "outputs": [
    {
     "data": {
      "text/html": [
       "<div>\n",
       "<style scoped>\n",
       "    .dataframe tbody tr th:only-of-type {\n",
       "        vertical-align: middle;\n",
       "    }\n",
       "\n",
       "    .dataframe tbody tr th {\n",
       "        vertical-align: top;\n",
       "    }\n",
       "\n",
       "    .dataframe thead th {\n",
       "        text-align: right;\n",
       "    }\n",
       "</style>\n",
       "<table border=\"1\" class=\"dataframe\">\n",
       "  <thead>\n",
       "    <tr style=\"text-align: right;\">\n",
       "      <th></th>\n",
       "      <th>Order_Datetime</th>\n",
       "      <th>Order_ID</th>\n",
       "      <th>Product_ID</th>\n",
       "      <th>SKU_Quantity</th>\n",
       "      <th>Category_ID</th>\n",
       "      <th>Category</th>\n",
       "      <th>Brand_ID</th>\n",
       "      <th>Price_USD</th>\n",
       "      <th>User_ID</th>\n",
       "      <th>Target_Gender</th>\n",
       "      <th>Main_Color</th>\n",
       "      <th>Main_metal</th>\n",
       "      <th>Main_Gem</th>\n",
       "    </tr>\n",
       "  </thead>\n",
       "  <tbody>\n",
       "    <tr>\n",
       "      <th>0</th>\n",
       "      <td>2018-12-01 17:38:31 UTC</td>\n",
       "      <td>1924899396621697920</td>\n",
       "      <td>1806829193678291446</td>\n",
       "      <td>1</td>\n",
       "      <td>1.806829e+18</td>\n",
       "      <td>NaN</td>\n",
       "      <td>NaN</td>\n",
       "      <td>212.14</td>\n",
       "      <td>1.515916e+18</td>\n",
       "      <td>NaN</td>\n",
       "      <td>yellow</td>\n",
       "      <td>gold</td>\n",
       "      <td>NaN</td>\n",
       "    </tr>\n",
       "    <tr>\n",
       "      <th>1</th>\n",
       "      <td>2018-12-02 13:53:42 UTC</td>\n",
       "      <td>1925511016616034733</td>\n",
       "      <td>1842214461889315556</td>\n",
       "      <td>1</td>\n",
       "      <td>1.806829e+18</td>\n",
       "      <td>jewelry.pendant</td>\n",
       "      <td>1.0</td>\n",
       "      <td>54.66</td>\n",
       "      <td>1.515916e+18</td>\n",
       "      <td>f</td>\n",
       "      <td>white</td>\n",
       "      <td>gold</td>\n",
       "      <td>sapphire</td>\n",
       "    </tr>\n",
       "    <tr>\n",
       "      <th>2</th>\n",
       "      <td>2018-12-02 17:44:02 UTC</td>\n",
       "      <td>1925626951238681511</td>\n",
       "      <td>1835566849434059453</td>\n",
       "      <td>1</td>\n",
       "      <td>1.806829e+18</td>\n",
       "      <td>jewelry.pendant</td>\n",
       "      <td>0.0</td>\n",
       "      <td>88.90</td>\n",
       "      <td>1.515916e+18</td>\n",
       "      <td>f</td>\n",
       "      <td>red</td>\n",
       "      <td>gold</td>\n",
       "      <td>diamond</td>\n",
       "    </tr>\n",
       "    <tr>\n",
       "      <th>3</th>\n",
       "      <td>2018-12-02 21:30:19 UTC</td>\n",
       "      <td>1925740842841014667</td>\n",
       "      <td>1873936840742928865</td>\n",
       "      <td>1</td>\n",
       "      <td>1.806829e+18</td>\n",
       "      <td>jewelry.necklace</td>\n",
       "      <td>0.0</td>\n",
       "      <td>417.67</td>\n",
       "      <td>1.515916e+18</td>\n",
       "      <td>NaN</td>\n",
       "      <td>red</td>\n",
       "      <td>gold</td>\n",
       "      <td>amethyst</td>\n",
       "    </tr>\n",
       "    <tr>\n",
       "      <th>4</th>\n",
       "      <td>2018-12-02 22:09:34 UTC</td>\n",
       "      <td>1925760595336888995</td>\n",
       "      <td>1835566854827934449</td>\n",
       "      <td>1</td>\n",
       "      <td>1.806829e+18</td>\n",
       "      <td>jewelry.earring</td>\n",
       "      <td>1.0</td>\n",
       "      <td>102.27</td>\n",
       "      <td>1.515916e+18</td>\n",
       "      <td>NaN</td>\n",
       "      <td>red</td>\n",
       "      <td>gold</td>\n",
       "      <td>NaN</td>\n",
       "    </tr>\n",
       "  </tbody>\n",
       "</table>\n",
       "</div>"
      ],
      "text/plain": [
       "            Order_Datetime             Order_ID           Product_ID  \\\n",
       "0  2018-12-01 17:38:31 UTC  1924899396621697920  1806829193678291446   \n",
       "1  2018-12-02 13:53:42 UTC  1925511016616034733  1842214461889315556   \n",
       "2  2018-12-02 17:44:02 UTC  1925626951238681511  1835566849434059453   \n",
       "3  2018-12-02 21:30:19 UTC  1925740842841014667  1873936840742928865   \n",
       "4  2018-12-02 22:09:34 UTC  1925760595336888995  1835566854827934449   \n",
       "\n",
       "   SKU_Quantity   Category_ID          Category  Brand_ID  Price_USD  \\\n",
       "0             1  1.806829e+18               NaN       NaN     212.14   \n",
       "1             1  1.806829e+18   jewelry.pendant       1.0      54.66   \n",
       "2             1  1.806829e+18   jewelry.pendant       0.0      88.90   \n",
       "3             1  1.806829e+18  jewelry.necklace       0.0     417.67   \n",
       "4             1  1.806829e+18   jewelry.earring       1.0     102.27   \n",
       "\n",
       "        User_ID Target_Gender Main_Color Main_metal  Main_Gem  \n",
       "0  1.515916e+18           NaN     yellow       gold       NaN  \n",
       "1  1.515916e+18             f      white       gold  sapphire  \n",
       "2  1.515916e+18             f        red       gold   diamond  \n",
       "3  1.515916e+18           NaN        red       gold  amethyst  \n",
       "4  1.515916e+18           NaN        red       gold       NaN  "
      ]
     },
     "execution_count": 59,
     "metadata": {},
     "output_type": "execute_result"
    }
   ],
   "source": [
    "df.head(5)"
   ]
  },
  {
   "cell_type": "code",
   "execution_count": 60,
   "metadata": {},
   "outputs": [
    {
     "data": {
      "text/plain": [
       "Order_Datetime        0\n",
       "Order_ID              0\n",
       "Product_ID            0\n",
       "SKU_Quantity          0\n",
       "Category_ID        5352\n",
       "Category           9933\n",
       "Brand_ID           4785\n",
       "Price_USD          5352\n",
       "User_ID            5352\n",
       "Target_Gender     48167\n",
       "Main_Color         7660\n",
       "Main_metal         5462\n",
       "Main_Gem          34058\n",
       "dtype: int64"
      ]
     },
     "execution_count": 60,
     "metadata": {},
     "output_type": "execute_result"
    }
   ],
   "source": [
    "## check for missing values\n",
    "df.isnull().sum()"
   ]
  },
  {
   "cell_type": "code",
   "execution_count": 61,
   "metadata": {},
   "outputs": [
    {
     "data": {
      "text/plain": [
       "(95910, 13)"
      ]
     },
     "execution_count": 61,
     "metadata": {},
     "output_type": "execute_result"
    }
   ],
   "source": [
    "#know the data shape\n",
    "\n",
    "df.shape"
   ]
  },
  {
   "cell_type": "code",
   "execution_count": 62,
   "metadata": {},
   "outputs": [
    {
     "data": {
      "text/plain": [
       "2589"
      ]
     },
     "execution_count": 62,
     "metadata": {},
     "output_type": "execute_result"
    }
   ],
   "source": [
    "## check fro duplicated rows\n",
    "df.duplicated().sum()"
   ]
  },
  {
   "cell_type": "code",
   "execution_count": 63,
   "metadata": {},
   "outputs": [
    {
     "data": {
      "text/plain": [
       "Order_Datetime    74504\n",
       "Order_ID          74759\n",
       "Product_ID         9613\n",
       "SKU_Quantity          1\n",
       "Category_ID          25\n",
       "Category            218\n",
       "Brand_ID           2537\n",
       "Price_USD          3166\n",
       "User_ID           31079\n",
       "Target_Gender         2\n",
       "Main_Color            5\n",
       "Main_metal            3\n",
       "Main_Gem             30\n",
       "dtype: int64"
      ]
     },
     "execution_count": 63,
     "metadata": {},
     "output_type": "execute_result"
    }
   ],
   "source": [
    "## check nunique values\n",
    "df.nunique()"
   ]
  },
  {
   "cell_type": "code",
   "execution_count": 64,
   "metadata": {},
   "outputs": [
    {
     "name": "stdout",
     "output_type": "stream",
     "text": [
      "<class 'pandas.core.frame.DataFrame'>\n",
      "RangeIndex: 95910 entries, 0 to 95909\n",
      "Data columns (total 13 columns):\n",
      " #   Column          Non-Null Count  Dtype  \n",
      "---  ------          --------------  -----  \n",
      " 0   Order_Datetime  95910 non-null  object \n",
      " 1   Order_ID        95910 non-null  int64  \n",
      " 2   Product_ID      95910 non-null  int64  \n",
      " 3   SKU_Quantity    95910 non-null  int64  \n",
      " 4   Category_ID     90558 non-null  float64\n",
      " 5   Category        85977 non-null  object \n",
      " 6   Brand_ID        91125 non-null  float64\n",
      " 7   Price_USD       90558 non-null  float64\n",
      " 8   User_ID         90558 non-null  float64\n",
      " 9   Target_Gender   47743 non-null  object \n",
      " 10  Main_Color      88250 non-null  object \n",
      " 11  Main_metal      90448 non-null  object \n",
      " 12  Main_Gem        61852 non-null  object \n",
      "dtypes: float64(4), int64(3), object(6)\n",
      "memory usage: 9.5+ MB\n"
     ]
    }
   ],
   "source": [
    "df.info()"
   ]
  },
  {
   "cell_type": "code",
   "execution_count": 65,
   "metadata": {},
   "outputs": [
    {
     "data": {
      "text/html": [
       "<div>\n",
       "<style scoped>\n",
       "    .dataframe tbody tr th:only-of-type {\n",
       "        vertical-align: middle;\n",
       "    }\n",
       "\n",
       "    .dataframe tbody tr th {\n",
       "        vertical-align: top;\n",
       "    }\n",
       "\n",
       "    .dataframe thead th {\n",
       "        text-align: right;\n",
       "    }\n",
       "</style>\n",
       "<table border=\"1\" class=\"dataframe\">\n",
       "  <thead>\n",
       "    <tr style=\"text-align: right;\">\n",
       "      <th></th>\n",
       "      <th>Order_ID</th>\n",
       "      <th>Product_ID</th>\n",
       "      <th>SKU_Quantity</th>\n",
       "      <th>Category_ID</th>\n",
       "      <th>Brand_ID</th>\n",
       "      <th>Price_USD</th>\n",
       "      <th>User_ID</th>\n",
       "    </tr>\n",
       "  </thead>\n",
       "  <tbody>\n",
       "    <tr>\n",
       "      <th>count</th>\n",
       "      <td>9.591000e+04</td>\n",
       "      <td>9.591000e+04</td>\n",
       "      <td>95910.0</td>\n",
       "      <td>9.055800e+04</td>\n",
       "      <td>9.112500e+04</td>\n",
       "      <td>90558.000000</td>\n",
       "      <td>9.055800e+04</td>\n",
       "    </tr>\n",
       "    <tr>\n",
       "      <th>mean</th>\n",
       "      <td>2.485191e+18</td>\n",
       "      <td>1.815970e+18</td>\n",
       "      <td>1.0</td>\n",
       "      <td>1.805947e+18</td>\n",
       "      <td>8.891036e+16</td>\n",
       "      <td>362.213017</td>\n",
       "      <td>1.512644e+18</td>\n",
       "    </tr>\n",
       "    <tr>\n",
       "      <th>std</th>\n",
       "      <td>1.934750e+17</td>\n",
       "      <td>2.136814e+17</td>\n",
       "      <td>0.0</td>\n",
       "      <td>2.083954e+16</td>\n",
       "      <td>3.559651e+17</td>\n",
       "      <td>444.157665</td>\n",
       "      <td>2.374776e+16</td>\n",
       "    </tr>\n",
       "    <tr>\n",
       "      <th>min</th>\n",
       "      <td>1.924899e+18</td>\n",
       "      <td>1.313551e+18</td>\n",
       "      <td>1.0</td>\n",
       "      <td>1.313678e+18</td>\n",
       "      <td>0.000000e+00</td>\n",
       "      <td>0.990000</td>\n",
       "      <td>1.313554e+18</td>\n",
       "    </tr>\n",
       "    <tr>\n",
       "      <th>25%</th>\n",
       "      <td>2.379732e+18</td>\n",
       "      <td>1.515966e+18</td>\n",
       "      <td>1.0</td>\n",
       "      <td>1.806829e+18</td>\n",
       "      <td>0.000000e+00</td>\n",
       "      <td>145.620000</td>\n",
       "      <td>1.515916e+18</td>\n",
       "    </tr>\n",
       "    <tr>\n",
       "      <th>50%</th>\n",
       "      <td>2.524282e+18</td>\n",
       "      <td>1.956664e+18</td>\n",
       "      <td>1.0</td>\n",
       "      <td>1.806829e+18</td>\n",
       "      <td>1.000000e+00</td>\n",
       "      <td>258.770000</td>\n",
       "      <td>1.515916e+18</td>\n",
       "    </tr>\n",
       "    <tr>\n",
       "      <th>75%</th>\n",
       "      <td>2.644347e+18</td>\n",
       "      <td>1.956664e+18</td>\n",
       "      <td>1.0</td>\n",
       "      <td>1.806829e+18</td>\n",
       "      <td>1.000000e+00</td>\n",
       "      <td>431.370000</td>\n",
       "      <td>1.515916e+18</td>\n",
       "    </tr>\n",
       "    <tr>\n",
       "      <th>max</th>\n",
       "      <td>2.719022e+18</td>\n",
       "      <td>2.541962e+18</td>\n",
       "      <td>1.0</td>\n",
       "      <td>1.806829e+18</td>\n",
       "      <td>1.550613e+18</td>\n",
       "      <td>34448.600000</td>\n",
       "      <td>1.554297e+18</td>\n",
       "    </tr>\n",
       "  </tbody>\n",
       "</table>\n",
       "</div>"
      ],
      "text/plain": [
       "           Order_ID    Product_ID  SKU_Quantity   Category_ID      Brand_ID  \\\n",
       "count  9.591000e+04  9.591000e+04       95910.0  9.055800e+04  9.112500e+04   \n",
       "mean   2.485191e+18  1.815970e+18           1.0  1.805947e+18  8.891036e+16   \n",
       "std    1.934750e+17  2.136814e+17           0.0  2.083954e+16  3.559651e+17   \n",
       "min    1.924899e+18  1.313551e+18           1.0  1.313678e+18  0.000000e+00   \n",
       "25%    2.379732e+18  1.515966e+18           1.0  1.806829e+18  0.000000e+00   \n",
       "50%    2.524282e+18  1.956664e+18           1.0  1.806829e+18  1.000000e+00   \n",
       "75%    2.644347e+18  1.956664e+18           1.0  1.806829e+18  1.000000e+00   \n",
       "max    2.719022e+18  2.541962e+18           1.0  1.806829e+18  1.550613e+18   \n",
       "\n",
       "          Price_USD       User_ID  \n",
       "count  90558.000000  9.055800e+04  \n",
       "mean     362.213017  1.512644e+18  \n",
       "std      444.157665  2.374776e+16  \n",
       "min        0.990000  1.313554e+18  \n",
       "25%      145.620000  1.515916e+18  \n",
       "50%      258.770000  1.515916e+18  \n",
       "75%      431.370000  1.515916e+18  \n",
       "max    34448.600000  1.554297e+18  "
      ]
     },
     "execution_count": 65,
     "metadata": {},
     "output_type": "execute_result"
    }
   ],
   "source": [
    "df.describe()"
   ]
  },
  {
   "cell_type": "code",
   "execution_count": 66,
   "metadata": {},
   "outputs": [],
   "source": [
    "## drop duplicated rows\n",
    "df = df.drop_duplicates()\n"
   ]
  },
  {
   "cell_type": "code",
   "execution_count": 67,
   "metadata": {},
   "outputs": [
    {
     "data": {
      "text/plain": [
       "Order_Datetime        0\n",
       "Order_ID              0\n",
       "Product_ID            0\n",
       "SKU_Quantity          0\n",
       "Category_ID        5232\n",
       "Category           9837\n",
       "Brand_ID           4675\n",
       "Price_USD          5232\n",
       "User_ID            5232\n",
       "Target_Gender     46275\n",
       "Main_Color         7277\n",
       "Main_metal         5339\n",
       "Main_Gem          32435\n",
       "dtype: int64"
      ]
     },
     "execution_count": 67,
     "metadata": {},
     "output_type": "execute_result"
    }
   ],
   "source": [
    "#check the isnull values again\n",
    "df.isnull().sum()"
   ]
  },
  {
   "cell_type": "code",
   "execution_count": 68,
   "metadata": {},
   "outputs": [
    {
     "data": {
      "text/plain": [
       "array([nan, 'jewelry.pendant', 'jewelry.necklace', 'jewelry.earring',\n",
       "       'jewelry.ring', 'jewelry.brooch', 'jewelry.bracelet',\n",
       "       'electronics.clocks', 'jewelry.souvenir', '230.12', '202.36',\n",
       "       '1098.03', '321.78', '1128.62', '81.27', '34.25', '582.16',\n",
       "       '227.37', '234.22', '150.55', '131.82', '2123.15', '109.45',\n",
       "       '49.22', '472.47', '205.38', '2746.44', '51.08', '231.12', '76.97',\n",
       "       '3054.73', '184.90', '380.10', '357.49', '15.47', '135.33',\n",
       "       '719.75', '93.01', '177.95', 'jewelry.stud', '102.10', '595.75',\n",
       "       '469.56', '427.07', '53.62', '77.53', '1469.18', '355.27',\n",
       "       '184.89', '154.66', '300.58', '83.73', '271.19', '3294.21',\n",
       "       '278.04', '3626.26', '126.03', '283.52', '114.38', '89.04', '8.22',\n",
       "       '124.88', '89.73', '171.23', '136.93', '19.04', '158.77', '187.10',\n",
       "       '151.92', '1845.89', '87.23', '248.58', '596.48', '208.88',\n",
       "       '193.11', '169.84', '1447.68', '45.07', '136.85', '282.05',\n",
       "       '61.51', '210.21', '137.12', '147.81', '419.45', '825.27',\n",
       "       '300.16', '541.78', '308.74', '766.85', '410.82', '101.23', '2.88',\n",
       "       '1356.16', '13.42', '35.21', '134.79', '626.58', '13.70', '108.53',\n",
       "       '119.01', '7.40', '4.79', '153.97', '482.47', '427.36', '289.18',\n",
       "       '25.48', '1858.49', '21.70', '11.77', '198.89', '17.51', '574.66',\n",
       "       '1319.93', '393.05', '358.22', '2282.19', '114.93', '371.23',\n",
       "       '63.56', '88.77', '133.70', '117.81', '166.03', '130.41', '195.75',\n",
       "       '104.79', '228.59', '1686.93', '65.89', '242.19', '252.47',\n",
       "       '210.41', '363.42', '149.04', '157.95', '176.30', '160.96',\n",
       "       '316.30', '258.77', '268.36', '838.90', '250.96', '832.01',\n",
       "       '312.33', '318.71', '323.60', '205.34', '608.22', '343.84',\n",
       "       '598.22', '508.08', '245.67', '338.36', '75.21', '573.81',\n",
       "       '691.51', '476.68', '247.68', '286.71', '863.67', '236.58',\n",
       "       '644.66', '40.82', '1376.99', '1.23', '621.23', '3454.79', '65.62',\n",
       "       '59.73', '571.30', '70.96', '271.26', '958.84', '527.26', '271.16',\n",
       "       '284.66', '261.64', '493.01', '35.48', '446.16', '526.41',\n",
       "       '2517.08', '331.51', '312.88', '148.63', '451.21', '369.82',\n",
       "       '537.40', '231.51', '316.34', '451.10', '283.49', '787.67',\n",
       "       '131.92', '495.48', '5.48', '186.03', '484.49', '331.23', '133.85',\n",
       "       '323.70', '2635.07', '297.22', '0.00', '259.58', '108.33',\n",
       "       '4876.49', '308.08', '190.27', '916.44', '132.53', '1829.37',\n",
       "       '2208.90', '75.76', '278.01', '662.30', '253.77'], dtype=object)"
      ]
     },
     "execution_count": 68,
     "metadata": {},
     "output_type": "execute_result"
    }
   ],
   "source": [
    "## Look through category feature\n",
    "df[\"Category\"].unique()"
   ]
  },
  {
   "cell_type": "code",
   "execution_count": 69,
   "metadata": {},
   "outputs": [
    {
     "data": {
      "text/plain": [
       "['jewelry.pendant',\n",
       " 'jewelry.necklace',\n",
       " 'jewelry.earring',\n",
       " 'jewelry.ring',\n",
       " 'jewelry.brooch',\n",
       " 'jewelry.bracelet',\n",
       " 'jewelry.souvenir',\n",
       " 'jewelry.stud']"
      ]
     },
     "execution_count": 69,
     "metadata": {},
     "output_type": "execute_result"
    }
   ],
   "source": [
    "##filter out the real categories\n",
    "\n",
    "real_categories = df[\"Category\"].unique().tolist()\n",
    "real_categories = [c for c in real_categories if isinstance(c, str) and \"jewelry\" in c ]\n",
    "real_categories"
   ]
  },
  {
   "cell_type": "code",
   "execution_count": 70,
   "metadata": {},
   "outputs": [
    {
     "data": {
      "text/html": [
       "<div>\n",
       "<style scoped>\n",
       "    .dataframe tbody tr th:only-of-type {\n",
       "        vertical-align: middle;\n",
       "    }\n",
       "\n",
       "    .dataframe tbody tr th {\n",
       "        vertical-align: top;\n",
       "    }\n",
       "\n",
       "    .dataframe thead th {\n",
       "        text-align: right;\n",
       "    }\n",
       "</style>\n",
       "<table border=\"1\" class=\"dataframe\">\n",
       "  <thead>\n",
       "    <tr style=\"text-align: right;\">\n",
       "      <th></th>\n",
       "      <th>Order_Datetime</th>\n",
       "      <th>Order_ID</th>\n",
       "      <th>Product_ID</th>\n",
       "      <th>SKU_Quantity</th>\n",
       "      <th>Category_ID</th>\n",
       "      <th>Category</th>\n",
       "      <th>Brand_ID</th>\n",
       "      <th>Price_USD</th>\n",
       "      <th>User_ID</th>\n",
       "      <th>Target_Gender</th>\n",
       "      <th>Main_Color</th>\n",
       "      <th>Main_metal</th>\n",
       "      <th>Main_Gem</th>\n",
       "    </tr>\n",
       "  </thead>\n",
       "  <tbody>\n",
       "    <tr>\n",
       "      <th>1</th>\n",
       "      <td>2018-12-02 13:53:42 UTC</td>\n",
       "      <td>1925511016616034733</td>\n",
       "      <td>1842214461889315556</td>\n",
       "      <td>1</td>\n",
       "      <td>1.806829e+18</td>\n",
       "      <td>jewelry.pendant</td>\n",
       "      <td>1.0</td>\n",
       "      <td>54.66</td>\n",
       "      <td>1.515916e+18</td>\n",
       "      <td>f</td>\n",
       "      <td>white</td>\n",
       "      <td>gold</td>\n",
       "      <td>sapphire</td>\n",
       "    </tr>\n",
       "    <tr>\n",
       "      <th>2</th>\n",
       "      <td>2018-12-02 17:44:02 UTC</td>\n",
       "      <td>1925626951238681511</td>\n",
       "      <td>1835566849434059453</td>\n",
       "      <td>1</td>\n",
       "      <td>1.806829e+18</td>\n",
       "      <td>jewelry.pendant</td>\n",
       "      <td>0.0</td>\n",
       "      <td>88.90</td>\n",
       "      <td>1.515916e+18</td>\n",
       "      <td>f</td>\n",
       "      <td>red</td>\n",
       "      <td>gold</td>\n",
       "      <td>diamond</td>\n",
       "    </tr>\n",
       "    <tr>\n",
       "      <th>3</th>\n",
       "      <td>2018-12-02 21:30:19 UTC</td>\n",
       "      <td>1925740842841014667</td>\n",
       "      <td>1873936840742928865</td>\n",
       "      <td>1</td>\n",
       "      <td>1.806829e+18</td>\n",
       "      <td>jewelry.necklace</td>\n",
       "      <td>0.0</td>\n",
       "      <td>417.67</td>\n",
       "      <td>1.515916e+18</td>\n",
       "      <td>NaN</td>\n",
       "      <td>red</td>\n",
       "      <td>gold</td>\n",
       "      <td>amethyst</td>\n",
       "    </tr>\n",
       "    <tr>\n",
       "      <th>4</th>\n",
       "      <td>2018-12-02 22:09:34 UTC</td>\n",
       "      <td>1925760595336888995</td>\n",
       "      <td>1835566854827934449</td>\n",
       "      <td>1</td>\n",
       "      <td>1.806829e+18</td>\n",
       "      <td>jewelry.earring</td>\n",
       "      <td>1.0</td>\n",
       "      <td>102.27</td>\n",
       "      <td>1.515916e+18</td>\n",
       "      <td>NaN</td>\n",
       "      <td>red</td>\n",
       "      <td>gold</td>\n",
       "      <td>NaN</td>\n",
       "    </tr>\n",
       "    <tr>\n",
       "      <th>5</th>\n",
       "      <td>2018-12-02 22:09:34 UTC</td>\n",
       "      <td>1925760595336888995</td>\n",
       "      <td>1600021442638905547</td>\n",
       "      <td>1</td>\n",
       "      <td>1.806829e+18</td>\n",
       "      <td>jewelry.earring</td>\n",
       "      <td>0.0</td>\n",
       "      <td>150.55</td>\n",
       "      <td>1.515916e+18</td>\n",
       "      <td>NaN</td>\n",
       "      <td>red</td>\n",
       "      <td>gold</td>\n",
       "      <td>diamond</td>\n",
       "    </tr>\n",
       "    <tr>\n",
       "      <th>...</th>\n",
       "      <td>...</td>\n",
       "      <td>...</td>\n",
       "      <td>...</td>\n",
       "      <td>...</td>\n",
       "      <td>...</td>\n",
       "      <td>...</td>\n",
       "      <td>...</td>\n",
       "      <td>...</td>\n",
       "      <td>...</td>\n",
       "      <td>...</td>\n",
       "      <td>...</td>\n",
       "      <td>...</td>\n",
       "      <td>...</td>\n",
       "    </tr>\n",
       "    <tr>\n",
       "      <th>95900</th>\n",
       "      <td>2021-12-01 09:32:35 UTC</td>\n",
       "      <td>2719009022110859402</td>\n",
       "      <td>1956663836207481431</td>\n",
       "      <td>1</td>\n",
       "      <td>1.806829e+18</td>\n",
       "      <td>jewelry.ring</td>\n",
       "      <td>0.0</td>\n",
       "      <td>145.62</td>\n",
       "      <td>1.515916e+18</td>\n",
       "      <td>NaN</td>\n",
       "      <td>red</td>\n",
       "      <td>gold</td>\n",
       "      <td>NaN</td>\n",
       "    </tr>\n",
       "    <tr>\n",
       "      <th>95903</th>\n",
       "      <td>2021-12-01 09:37:28 UTC</td>\n",
       "      <td>2719011482355368159</td>\n",
       "      <td>1956663847389495299</td>\n",
       "      <td>1</td>\n",
       "      <td>1.806829e+18</td>\n",
       "      <td>jewelry.earring</td>\n",
       "      <td>0.0</td>\n",
       "      <td>301.23</td>\n",
       "      <td>1.515916e+18</td>\n",
       "      <td>NaN</td>\n",
       "      <td>red</td>\n",
       "      <td>gold</td>\n",
       "      <td>amethyst</td>\n",
       "    </tr>\n",
       "    <tr>\n",
       "      <th>95907</th>\n",
       "      <td>2021-12-01 09:52:06 UTC</td>\n",
       "      <td>2719018846999544322</td>\n",
       "      <td>1956663848219968336</td>\n",
       "      <td>1</td>\n",
       "      <td>1.806829e+18</td>\n",
       "      <td>jewelry.earring</td>\n",
       "      <td>1.0</td>\n",
       "      <td>630.00</td>\n",
       "      <td>1.515916e+18</td>\n",
       "      <td>f</td>\n",
       "      <td>white</td>\n",
       "      <td>gold</td>\n",
       "      <td>diamond</td>\n",
       "    </tr>\n",
       "    <tr>\n",
       "      <th>95908</th>\n",
       "      <td>2021-12-01 09:55:35 UTC</td>\n",
       "      <td>2719020596963836492</td>\n",
       "      <td>1835566854106513435</td>\n",
       "      <td>1</td>\n",
       "      <td>1.806829e+18</td>\n",
       "      <td>jewelry.earring</td>\n",
       "      <td>0.0</td>\n",
       "      <td>83.42</td>\n",
       "      <td>1.515916e+18</td>\n",
       "      <td>NaN</td>\n",
       "      <td>white</td>\n",
       "      <td>gold</td>\n",
       "      <td>fianit</td>\n",
       "    </tr>\n",
       "    <tr>\n",
       "      <th>95909</th>\n",
       "      <td>2021-12-01 09:59:07 UTC</td>\n",
       "      <td>2719022379232658075</td>\n",
       "      <td>1956663846156370429</td>\n",
       "      <td>1</td>\n",
       "      <td>1.806829e+18</td>\n",
       "      <td>jewelry.pendant</td>\n",
       "      <td>1.0</td>\n",
       "      <td>97.12</td>\n",
       "      <td>1.515916e+18</td>\n",
       "      <td>NaN</td>\n",
       "      <td>red</td>\n",
       "      <td>gold</td>\n",
       "      <td>NaN</td>\n",
       "    </tr>\n",
       "  </tbody>\n",
       "</table>\n",
       "<p>78087 rows × 13 columns</p>\n",
       "</div>"
      ],
      "text/plain": [
       "                Order_Datetime             Order_ID           Product_ID  \\\n",
       "1      2018-12-02 13:53:42 UTC  1925511016616034733  1842214461889315556   \n",
       "2      2018-12-02 17:44:02 UTC  1925626951238681511  1835566849434059453   \n",
       "3      2018-12-02 21:30:19 UTC  1925740842841014667  1873936840742928865   \n",
       "4      2018-12-02 22:09:34 UTC  1925760595336888995  1835566854827934449   \n",
       "5      2018-12-02 22:09:34 UTC  1925760595336888995  1600021442638905547   \n",
       "...                        ...                  ...                  ...   \n",
       "95900  2021-12-01 09:32:35 UTC  2719009022110859402  1956663836207481431   \n",
       "95903  2021-12-01 09:37:28 UTC  2719011482355368159  1956663847389495299   \n",
       "95907  2021-12-01 09:52:06 UTC  2719018846999544322  1956663848219968336   \n",
       "95908  2021-12-01 09:55:35 UTC  2719020596963836492  1835566854106513435   \n",
       "95909  2021-12-01 09:59:07 UTC  2719022379232658075  1956663846156370429   \n",
       "\n",
       "       SKU_Quantity   Category_ID          Category  Brand_ID  Price_USD  \\\n",
       "1                 1  1.806829e+18   jewelry.pendant       1.0      54.66   \n",
       "2                 1  1.806829e+18   jewelry.pendant       0.0      88.90   \n",
       "3                 1  1.806829e+18  jewelry.necklace       0.0     417.67   \n",
       "4                 1  1.806829e+18   jewelry.earring       1.0     102.27   \n",
       "5                 1  1.806829e+18   jewelry.earring       0.0     150.55   \n",
       "...             ...           ...               ...       ...        ...   \n",
       "95900             1  1.806829e+18      jewelry.ring       0.0     145.62   \n",
       "95903             1  1.806829e+18   jewelry.earring       0.0     301.23   \n",
       "95907             1  1.806829e+18   jewelry.earring       1.0     630.00   \n",
       "95908             1  1.806829e+18   jewelry.earring       0.0      83.42   \n",
       "95909             1  1.806829e+18   jewelry.pendant       1.0      97.12   \n",
       "\n",
       "            User_ID Target_Gender Main_Color Main_metal  Main_Gem  \n",
       "1      1.515916e+18             f      white       gold  sapphire  \n",
       "2      1.515916e+18             f        red       gold   diamond  \n",
       "3      1.515916e+18           NaN        red       gold  amethyst  \n",
       "4      1.515916e+18           NaN        red       gold       NaN  \n",
       "5      1.515916e+18           NaN        red       gold   diamond  \n",
       "...             ...           ...        ...        ...       ...  \n",
       "95900  1.515916e+18           NaN        red       gold       NaN  \n",
       "95903  1.515916e+18           NaN        red       gold  amethyst  \n",
       "95907  1.515916e+18             f      white       gold   diamond  \n",
       "95908  1.515916e+18           NaN      white       gold    fianit  \n",
       "95909  1.515916e+18           NaN        red       gold       NaN  \n",
       "\n",
       "[78087 rows x 13 columns]"
      ]
     },
     "execution_count": 70,
     "metadata": {},
     "output_type": "execute_result"
    }
   ],
   "source": [
    "df_category = df.loc[df[\"Category\"].isin(real_categories)]\n",
    "df_category"
   ]
  },
  {
   "cell_type": "code",
   "execution_count": 71,
   "metadata": {},
   "outputs": [
    {
     "data": {
      "text/plain": [
       "Order_Datetime        0\n",
       "Order_ID              0\n",
       "Product_ID            0\n",
       "SKU_Quantity          0\n",
       "Category_ID           0\n",
       "Category              0\n",
       "Brand_ID           3368\n",
       "Price_USD             0\n",
       "User_ID               0\n",
       "Target_Gender     34373\n",
       "Main_Color         1875\n",
       "Main_metal           86\n",
       "Main_Gem          18084\n",
       "dtype: int64"
      ]
     },
     "execution_count": 71,
     "metadata": {},
     "output_type": "execute_result"
    }
   ],
   "source": [
    "## haven filtered out the wrong cats check  isnull again\n",
    "df_category.isnull().sum()"
   ]
  },
  {
   "cell_type": "code",
   "execution_count": 72,
   "metadata": {},
   "outputs": [
    {
     "data": {
      "text/plain": [
       "Target_Gender\n",
       "f    43471\n",
       "m      243\n",
       "Name: count, dtype: int64"
      ]
     },
     "execution_count": 72,
     "metadata": {},
     "output_type": "execute_result"
    }
   ],
   "source": [
    "## check Target gender\n",
    "df_category[\"Target_Gender\"].value_counts()"
   ]
  },
  {
   "cell_type": "code",
   "execution_count": 73,
   "metadata": {},
   "outputs": [],
   "source": [
    "df_category[\"Target_Gender\"] = df_category[\"Target_Gender\"].fillna(df_category[\"Target_Gender\"].mode()[0])"
   ]
  },
  {
   "cell_type": "code",
   "execution_count": 74,
   "metadata": {},
   "outputs": [
    {
     "data": {
      "text/html": [
       "<div>\n",
       "<style scoped>\n",
       "    .dataframe tbody tr th:only-of-type {\n",
       "        vertical-align: middle;\n",
       "    }\n",
       "\n",
       "    .dataframe tbody tr th {\n",
       "        vertical-align: top;\n",
       "    }\n",
       "\n",
       "    .dataframe thead th {\n",
       "        text-align: right;\n",
       "    }\n",
       "</style>\n",
       "<table border=\"1\" class=\"dataframe\">\n",
       "  <thead>\n",
       "    <tr style=\"text-align: right;\">\n",
       "      <th></th>\n",
       "      <th>Order_Datetime</th>\n",
       "      <th>Order_ID</th>\n",
       "      <th>Product_ID</th>\n",
       "      <th>SKU_Quantity</th>\n",
       "      <th>Category_ID</th>\n",
       "      <th>Category</th>\n",
       "      <th>Brand_ID</th>\n",
       "      <th>Price_USD</th>\n",
       "      <th>User_ID</th>\n",
       "      <th>Target_Gender</th>\n",
       "      <th>Main_Color</th>\n",
       "      <th>Main_metal</th>\n",
       "      <th>Main_Gem</th>\n",
       "    </tr>\n",
       "  </thead>\n",
       "  <tbody>\n",
       "    <tr>\n",
       "      <th>1</th>\n",
       "      <td>2018-12-02 13:53:42 UTC</td>\n",
       "      <td>1925511016616034733</td>\n",
       "      <td>1842214461889315556</td>\n",
       "      <td>1</td>\n",
       "      <td>1.806829e+18</td>\n",
       "      <td>jewelry.pendant</td>\n",
       "      <td>1.0</td>\n",
       "      <td>54.66</td>\n",
       "      <td>1.515916e+18</td>\n",
       "      <td>f</td>\n",
       "      <td>white</td>\n",
       "      <td>gold</td>\n",
       "      <td>sapphire</td>\n",
       "    </tr>\n",
       "    <tr>\n",
       "      <th>2</th>\n",
       "      <td>2018-12-02 17:44:02 UTC</td>\n",
       "      <td>1925626951238681511</td>\n",
       "      <td>1835566849434059453</td>\n",
       "      <td>1</td>\n",
       "      <td>1.806829e+18</td>\n",
       "      <td>jewelry.pendant</td>\n",
       "      <td>0.0</td>\n",
       "      <td>88.90</td>\n",
       "      <td>1.515916e+18</td>\n",
       "      <td>f</td>\n",
       "      <td>red</td>\n",
       "      <td>gold</td>\n",
       "      <td>diamond</td>\n",
       "    </tr>\n",
       "    <tr>\n",
       "      <th>3</th>\n",
       "      <td>2018-12-02 21:30:19 UTC</td>\n",
       "      <td>1925740842841014667</td>\n",
       "      <td>1873936840742928865</td>\n",
       "      <td>1</td>\n",
       "      <td>1.806829e+18</td>\n",
       "      <td>jewelry.necklace</td>\n",
       "      <td>0.0</td>\n",
       "      <td>417.67</td>\n",
       "      <td>1.515916e+18</td>\n",
       "      <td>f</td>\n",
       "      <td>red</td>\n",
       "      <td>gold</td>\n",
       "      <td>amethyst</td>\n",
       "    </tr>\n",
       "    <tr>\n",
       "      <th>4</th>\n",
       "      <td>2018-12-02 22:09:34 UTC</td>\n",
       "      <td>1925760595336888995</td>\n",
       "      <td>1835566854827934449</td>\n",
       "      <td>1</td>\n",
       "      <td>1.806829e+18</td>\n",
       "      <td>jewelry.earring</td>\n",
       "      <td>1.0</td>\n",
       "      <td>102.27</td>\n",
       "      <td>1.515916e+18</td>\n",
       "      <td>f</td>\n",
       "      <td>red</td>\n",
       "      <td>gold</td>\n",
       "      <td>NaN</td>\n",
       "    </tr>\n",
       "    <tr>\n",
       "      <th>5</th>\n",
       "      <td>2018-12-02 22:09:34 UTC</td>\n",
       "      <td>1925760595336888995</td>\n",
       "      <td>1600021442638905547</td>\n",
       "      <td>1</td>\n",
       "      <td>1.806829e+18</td>\n",
       "      <td>jewelry.earring</td>\n",
       "      <td>0.0</td>\n",
       "      <td>150.55</td>\n",
       "      <td>1.515916e+18</td>\n",
       "      <td>f</td>\n",
       "      <td>red</td>\n",
       "      <td>gold</td>\n",
       "      <td>diamond</td>\n",
       "    </tr>\n",
       "  </tbody>\n",
       "</table>\n",
       "</div>"
      ],
      "text/plain": [
       "            Order_Datetime             Order_ID           Product_ID  \\\n",
       "1  2018-12-02 13:53:42 UTC  1925511016616034733  1842214461889315556   \n",
       "2  2018-12-02 17:44:02 UTC  1925626951238681511  1835566849434059453   \n",
       "3  2018-12-02 21:30:19 UTC  1925740842841014667  1873936840742928865   \n",
       "4  2018-12-02 22:09:34 UTC  1925760595336888995  1835566854827934449   \n",
       "5  2018-12-02 22:09:34 UTC  1925760595336888995  1600021442638905547   \n",
       "\n",
       "   SKU_Quantity   Category_ID          Category  Brand_ID  Price_USD  \\\n",
       "1             1  1.806829e+18   jewelry.pendant       1.0      54.66   \n",
       "2             1  1.806829e+18   jewelry.pendant       0.0      88.90   \n",
       "3             1  1.806829e+18  jewelry.necklace       0.0     417.67   \n",
       "4             1  1.806829e+18   jewelry.earring       1.0     102.27   \n",
       "5             1  1.806829e+18   jewelry.earring       0.0     150.55   \n",
       "\n",
       "        User_ID Target_Gender Main_Color Main_metal  Main_Gem  \n",
       "1  1.515916e+18             f      white       gold  sapphire  \n",
       "2  1.515916e+18             f        red       gold   diamond  \n",
       "3  1.515916e+18             f        red       gold  amethyst  \n",
       "4  1.515916e+18             f        red       gold       NaN  \n",
       "5  1.515916e+18             f        red       gold   diamond  "
      ]
     },
     "execution_count": 74,
     "metadata": {},
     "output_type": "execute_result"
    }
   ],
   "source": [
    "df_category.head(5)"
   ]
  },
  {
   "cell_type": "code",
   "execution_count": 75,
   "metadata": {},
   "outputs": [
    {
     "data": {
      "text/plain": [
       "Order_Datetime        0\n",
       "Order_ID              0\n",
       "Product_ID            0\n",
       "SKU_Quantity          0\n",
       "Category_ID           0\n",
       "Category              0\n",
       "Brand_ID           3368\n",
       "Price_USD             0\n",
       "User_ID               0\n",
       "Target_Gender         0\n",
       "Main_Color         1875\n",
       "Main_metal           86\n",
       "Main_Gem          18084\n",
       "dtype: int64"
      ]
     },
     "execution_count": 75,
     "metadata": {},
     "output_type": "execute_result"
    }
   ],
   "source": [
    "df_category.isnull().sum()"
   ]
  },
  {
   "cell_type": "code",
   "execution_count": 76,
   "metadata": {},
   "outputs": [
    {
     "data": {
      "text/plain": [
       "(78087, 13)"
      ]
     },
     "execution_count": 76,
     "metadata": {},
     "output_type": "execute_result"
    }
   ],
   "source": [
    "df_category.shape"
   ]
  },
  {
   "cell_type": "code",
   "execution_count": 77,
   "metadata": {},
   "outputs": [],
   "source": [
    "## drop the rest of thr null rows\n",
    "\n",
    "df_category = df_category.dropna()"
   ]
  },
  {
   "cell_type": "code",
   "execution_count": 78,
   "metadata": {},
   "outputs": [
    {
     "data": {
      "text/plain": [
       "Order_Datetime    0\n",
       "Order_ID          0\n",
       "Product_ID        0\n",
       "SKU_Quantity      0\n",
       "Category_ID       0\n",
       "Category          0\n",
       "Brand_ID          0\n",
       "Price_USD         0\n",
       "User_ID           0\n",
       "Target_Gender     0\n",
       "Main_Color        0\n",
       "Main_metal        0\n",
       "Main_Gem          0\n",
       "dtype: int64"
      ]
     },
     "execution_count": 78,
     "metadata": {},
     "output_type": "execute_result"
    }
   ],
   "source": [
    "## confirm the isnull is gone\n",
    "df_category.isnull().sum()"
   ]
  },
  {
   "cell_type": "code",
   "execution_count": 79,
   "metadata": {},
   "outputs": [
    {
     "data": {
      "text/plain": [
       "(57372, 13)"
      ]
     },
     "execution_count": 79,
     "metadata": {},
     "output_type": "execute_result"
    }
   ],
   "source": [
    "## confirm the new data size\n",
    "\n",
    "df_category.shape"
   ]
  },
  {
   "cell_type": "code",
   "execution_count": 80,
   "metadata": {},
   "outputs": [
    {
     "data": {
      "text/plain": [
       "Order_Datetime    47096\n",
       "Order_ID          47129\n",
       "Product_ID         5653\n",
       "SKU_Quantity          1\n",
       "Category_ID          10\n",
       "Category              7\n",
       "Brand_ID              4\n",
       "Price_USD          1821\n",
       "User_ID           22562\n",
       "Target_Gender         2\n",
       "Main_Color            3\n",
       "Main_metal            1\n",
       "Main_Gem             29\n",
       "dtype: int64"
      ]
     },
     "execution_count": 80,
     "metadata": {},
     "output_type": "execute_result"
    }
   ],
   "source": [
    "## Observe the unique values again\n",
    "\n",
    "df_category.nunique()"
   ]
  },
  {
   "cell_type": "code",
   "execution_count": 81,
   "metadata": {},
   "outputs": [
    {
     "data": {
      "text/html": [
       "<div>\n",
       "<style scoped>\n",
       "    .dataframe tbody tr th:only-of-type {\n",
       "        vertical-align: middle;\n",
       "    }\n",
       "\n",
       "    .dataframe tbody tr th {\n",
       "        vertical-align: top;\n",
       "    }\n",
       "\n",
       "    .dataframe thead th {\n",
       "        text-align: right;\n",
       "    }\n",
       "</style>\n",
       "<table border=\"1\" class=\"dataframe\">\n",
       "  <thead>\n",
       "    <tr style=\"text-align: right;\">\n",
       "      <th></th>\n",
       "      <th>Order_Datetime</th>\n",
       "      <th>Order_ID</th>\n",
       "      <th>Product_ID</th>\n",
       "      <th>SKU_Quantity</th>\n",
       "      <th>Category_ID</th>\n",
       "      <th>Category</th>\n",
       "      <th>Brand_ID</th>\n",
       "      <th>Price_USD</th>\n",
       "      <th>User_ID</th>\n",
       "      <th>Target_Gender</th>\n",
       "      <th>Main_Color</th>\n",
       "      <th>Main_metal</th>\n",
       "      <th>Main_Gem</th>\n",
       "    </tr>\n",
       "  </thead>\n",
       "  <tbody>\n",
       "    <tr>\n",
       "      <th>1</th>\n",
       "      <td>2018-12-02 13:53:42 UTC</td>\n",
       "      <td>1925511016616034733</td>\n",
       "      <td>1842214461889315556</td>\n",
       "      <td>1</td>\n",
       "      <td>1.806829e+18</td>\n",
       "      <td>jewelry.pendant</td>\n",
       "      <td>1.0</td>\n",
       "      <td>54.66</td>\n",
       "      <td>1.515916e+18</td>\n",
       "      <td>f</td>\n",
       "      <td>white</td>\n",
       "      <td>gold</td>\n",
       "      <td>sapphire</td>\n",
       "    </tr>\n",
       "    <tr>\n",
       "      <th>2</th>\n",
       "      <td>2018-12-02 17:44:02 UTC</td>\n",
       "      <td>1925626951238681511</td>\n",
       "      <td>1835566849434059453</td>\n",
       "      <td>1</td>\n",
       "      <td>1.806829e+18</td>\n",
       "      <td>jewelry.pendant</td>\n",
       "      <td>0.0</td>\n",
       "      <td>88.90</td>\n",
       "      <td>1.515916e+18</td>\n",
       "      <td>f</td>\n",
       "      <td>red</td>\n",
       "      <td>gold</td>\n",
       "      <td>diamond</td>\n",
       "    </tr>\n",
       "    <tr>\n",
       "      <th>3</th>\n",
       "      <td>2018-12-02 21:30:19 UTC</td>\n",
       "      <td>1925740842841014667</td>\n",
       "      <td>1873936840742928865</td>\n",
       "      <td>1</td>\n",
       "      <td>1.806829e+18</td>\n",
       "      <td>jewelry.necklace</td>\n",
       "      <td>0.0</td>\n",
       "      <td>417.67</td>\n",
       "      <td>1.515916e+18</td>\n",
       "      <td>f</td>\n",
       "      <td>red</td>\n",
       "      <td>gold</td>\n",
       "      <td>amethyst</td>\n",
       "    </tr>\n",
       "    <tr>\n",
       "      <th>5</th>\n",
       "      <td>2018-12-02 22:09:34 UTC</td>\n",
       "      <td>1925760595336888995</td>\n",
       "      <td>1600021442638905547</td>\n",
       "      <td>1</td>\n",
       "      <td>1.806829e+18</td>\n",
       "      <td>jewelry.earring</td>\n",
       "      <td>0.0</td>\n",
       "      <td>150.55</td>\n",
       "      <td>1.515916e+18</td>\n",
       "      <td>f</td>\n",
       "      <td>red</td>\n",
       "      <td>gold</td>\n",
       "      <td>diamond</td>\n",
       "    </tr>\n",
       "    <tr>\n",
       "      <th>6</th>\n",
       "      <td>2018-12-02 22:16:20 UTC</td>\n",
       "      <td>1925764002260976330</td>\n",
       "      <td>1835566854106513435</td>\n",
       "      <td>1</td>\n",
       "      <td>1.806829e+18</td>\n",
       "      <td>jewelry.earring</td>\n",
       "      <td>0.0</td>\n",
       "      <td>83.42</td>\n",
       "      <td>1.515916e+18</td>\n",
       "      <td>f</td>\n",
       "      <td>white</td>\n",
       "      <td>gold</td>\n",
       "      <td>fianit</td>\n",
       "    </tr>\n",
       "  </tbody>\n",
       "</table>\n",
       "</div>"
      ],
      "text/plain": [
       "            Order_Datetime             Order_ID           Product_ID  \\\n",
       "1  2018-12-02 13:53:42 UTC  1925511016616034733  1842214461889315556   \n",
       "2  2018-12-02 17:44:02 UTC  1925626951238681511  1835566849434059453   \n",
       "3  2018-12-02 21:30:19 UTC  1925740842841014667  1873936840742928865   \n",
       "5  2018-12-02 22:09:34 UTC  1925760595336888995  1600021442638905547   \n",
       "6  2018-12-02 22:16:20 UTC  1925764002260976330  1835566854106513435   \n",
       "\n",
       "   SKU_Quantity   Category_ID          Category  Brand_ID  Price_USD  \\\n",
       "1             1  1.806829e+18   jewelry.pendant       1.0      54.66   \n",
       "2             1  1.806829e+18   jewelry.pendant       0.0      88.90   \n",
       "3             1  1.806829e+18  jewelry.necklace       0.0     417.67   \n",
       "5             1  1.806829e+18   jewelry.earring       0.0     150.55   \n",
       "6             1  1.806829e+18   jewelry.earring       0.0      83.42   \n",
       "\n",
       "        User_ID Target_Gender Main_Color Main_metal  Main_Gem  \n",
       "1  1.515916e+18             f      white       gold  sapphire  \n",
       "2  1.515916e+18             f        red       gold   diamond  \n",
       "3  1.515916e+18             f        red       gold  amethyst  \n",
       "5  1.515916e+18             f        red       gold   diamond  \n",
       "6  1.515916e+18             f      white       gold    fianit  "
      ]
     },
     "execution_count": 81,
     "metadata": {},
     "output_type": "execute_result"
    }
   ],
   "source": [
    "df_category.head(5)"
   ]
  },
  {
   "cell_type": "markdown",
   "metadata": {},
   "source": [
    "## Univariate Analysis"
   ]
  },
  {
   "cell_type": "code",
   "execution_count": 82,
   "metadata": {},
   "outputs": [
    {
     "data": {
      "image/png": "[encoded data removed]",
      "text/plain": [
       "<Figure size 1500x800 with 1 Axes>"
      ]
     },
     "metadata": {},
     "output_type": "display_data"
    }
   ],
   "source": [
    "## category count plot\n",
    "\n",
    "plt.figure(figsize = (15, 8))\n",
    "\n",
    "sns.countplot(data = df_category, x = \"Category\")\n",
    "\n",
    "plt.xlabel(\"Jewelry categories\")\n",
    "plt.ylabel(\"Category frequency\")\n",
    "\n",
    "plt.show(); plt.close()"
   ]
  },
  {
   "cell_type": "code",
   "execution_count": 83,
   "metadata": {},
   "outputs": [
    {
     "data": {
      "image/png": "[encoded data removed]",
      "text/plain": [
       "<Figure size 1000x500 with 1 Axes>"
      ]
     },
     "metadata": {},
     "output_type": "display_data"
    }
   ],
   "source": [
    "## visualize target gender\n",
    "\n",
    "plt.figure(figsize = (10, 5))\n",
    "\n",
    "sns.countplot(data = df_category, x = \"Target_Gender\")\n",
    "\n",
    "plt.xlabel(\"Gender\")\n",
    "plt.ylabel(\"Gender Frequency\")\n",
    "\n",
    "plt.tight_layout()\n",
    "plt.show()\n",
    "\n"
   ]
  },
  {
   "cell_type": "code",
   "execution_count": 84,
   "metadata": {},
   "outputs": [
    {
     "data": {
      "image/png": "[encoded data removed]",
      "text/plain": [
       "<Figure size 1000x500 with 1 Axes>"
      ]
     },
     "metadata": {},
     "output_type": "display_data"
    }
   ],
   "source": [
    "## visualize target gender\n",
    "\n",
    "plt.figure(figsize = (10, 5))\n",
    "\n",
    "sns.countplot(data = df_category, x = \"Main_Color\")\n",
    "\n",
    "plt.xlabel(\"Main Colour sold\")\n",
    "plt.ylabel(\"Main colour Frequency\")\n",
    "\n",
    "plt.tight_layout()\n",
    "plt.show()"
   ]
  },
  {
   "cell_type": "code",
   "execution_count": 85,
   "metadata": {},
   "outputs": [
    {
     "data": {
      "image/png": "[encoded data removed]",
      "text/plain": [
       "<Figure size 2000x500 with 1 Axes>"
      ]
     },
     "metadata": {},
     "output_type": "display_data"
    }
   ],
   "source": [
    "## visualize target gender\n",
    "\n",
    "plt.figure(figsize = (20, 5))\n",
    "\n",
    "sns.countplot(data = df_category, x = \"Main_Gem\")\n",
    "\n",
    "plt.xlabel(\"Main Gem sold\")\n",
    "plt.ylabel(\"Main Gem Frequency\")\n",
    "plt.xticks(rotation=45)\n",
    "\n",
    "plt.tight_layout()\n",
    "plt.show()"
   ]
  },
  {
   "cell_type": "markdown",
   "metadata": {},
   "source": [
    "## Bivariate Analysis"
   ]
  },
  {
   "cell_type": "code",
   "execution_count": 86,
   "metadata": {},
   "outputs": [
    {
     "data": {
      "image/png": "[encoded data removed]",
      "text/plain": [
       "<Figure size 1500x800 with 1 Axes>"
      ]
     },
     "metadata": {},
     "output_type": "display_data"
    }
   ],
   "source": [
    "## category count plot\n",
    "\n",
    "plt.figure(figsize = (15, 8))\n",
    "\n",
    "sns.countplot(data = df_category, x = \"Category\", hue=\"Target_Gender\")\n",
    "\n",
    "plt.xlabel(\"Jewelry categories\")\n",
    "plt.ylabel(\"Category frequency\")\n",
    "plt.xticks(rotation=45)\n",
    "\n",
    "plt.tight_layout()\n",
    "plt.show(); plt.close()"
   ]
  },
  {
   "cell_type": "markdown",
   "metadata": {},
   "source": [
    "## Feature Engineering"
   ]
  },
  {
   "cell_type": "code",
   "execution_count": 87,
   "metadata": {},
   "outputs": [],
   "source": [
    "## Label Encoding\n",
    "\n",
    "from sklearn.preprocessing import LabelEncoder"
   ]
  },
  {
   "cell_type": "code",
   "execution_count": 88,
   "metadata": {},
   "outputs": [],
   "source": [
    "## Encode the categorical variables\n",
    "\n",
    "le = LabelEncoder()\n",
    "\n",
    "df_category[\"Category\"] = le.fit_transform(df_category[\"Category\"])\n",
    "df_category[\"Target_Gender\"] = le.fit_transform(df_category[\"Target_Gender\"])\n",
    "df_category[\"Main_Color\"] = le.fit_transform(df_category[\"Main_Color\"])\n",
    "df_category[\"Main_metal\"] = le.fit_transform(df_category[\"Main_metal\"])\n",
    "df_category[\"Main_Gem\"] = le.fit_transform(df_category[\"Main_Gem\"])"
   ]
  },
  {
   "cell_type": "code",
   "execution_count": 89,
   "metadata": {},
   "outputs": [
    {
     "data": {
      "text/html": [
       "<div>\n",
       "<style scoped>\n",
       "    .dataframe tbody tr th:only-of-type {\n",
       "        vertical-align: middle;\n",
       "    }\n",
       "\n",
       "    .dataframe tbody tr th {\n",
       "        vertical-align: top;\n",
       "    }\n",
       "\n",
       "    .dataframe thead th {\n",
       "        text-align: right;\n",
       "    }\n",
       "</style>\n",
       "<table border=\"1\" class=\"dataframe\">\n",
       "  <thead>\n",
       "    <tr style=\"text-align: right;\">\n",
       "      <th></th>\n",
       "      <th>Order_Datetime</th>\n",
       "      <th>Order_ID</th>\n",
       "      <th>Product_ID</th>\n",
       "      <th>SKU_Quantity</th>\n",
       "      <th>Category_ID</th>\n",
       "      <th>Category</th>\n",
       "      <th>Brand_ID</th>\n",
       "      <th>Price_USD</th>\n",
       "      <th>User_ID</th>\n",
       "      <th>Target_Gender</th>\n",
       "      <th>Main_Color</th>\n",
       "      <th>Main_metal</th>\n",
       "      <th>Main_Gem</th>\n",
       "    </tr>\n",
       "  </thead>\n",
       "  <tbody>\n",
       "    <tr>\n",
       "      <th>1</th>\n",
       "      <td>2018-12-02 13:53:42 UTC</td>\n",
       "      <td>1925511016616034733</td>\n",
       "      <td>1842214461889315556</td>\n",
       "      <td>1</td>\n",
       "      <td>1.806829e+18</td>\n",
       "      <td>4</td>\n",
       "      <td>1.0</td>\n",
       "      <td>54.66</td>\n",
       "      <td>1.515916e+18</td>\n",
       "      <td>0</td>\n",
       "      <td>1</td>\n",
       "      <td>0</td>\n",
       "      <td>22</td>\n",
       "    </tr>\n",
       "    <tr>\n",
       "      <th>2</th>\n",
       "      <td>2018-12-02 17:44:02 UTC</td>\n",
       "      <td>1925626951238681511</td>\n",
       "      <td>1835566849434059453</td>\n",
       "      <td>1</td>\n",
       "      <td>1.806829e+18</td>\n",
       "      <td>4</td>\n",
       "      <td>0.0</td>\n",
       "      <td>88.90</td>\n",
       "      <td>1.515916e+18</td>\n",
       "      <td>0</td>\n",
       "      <td>0</td>\n",
       "      <td>0</td>\n",
       "      <td>8</td>\n",
       "    </tr>\n",
       "    <tr>\n",
       "      <th>3</th>\n",
       "      <td>2018-12-02 21:30:19 UTC</td>\n",
       "      <td>1925740842841014667</td>\n",
       "      <td>1873936840742928865</td>\n",
       "      <td>1</td>\n",
       "      <td>1.806829e+18</td>\n",
       "      <td>3</td>\n",
       "      <td>0.0</td>\n",
       "      <td>417.67</td>\n",
       "      <td>1.515916e+18</td>\n",
       "      <td>0</td>\n",
       "      <td>0</td>\n",
       "      <td>0</td>\n",
       "      <td>2</td>\n",
       "    </tr>\n",
       "    <tr>\n",
       "      <th>5</th>\n",
       "      <td>2018-12-02 22:09:34 UTC</td>\n",
       "      <td>1925760595336888995</td>\n",
       "      <td>1600021442638905547</td>\n",
       "      <td>1</td>\n",
       "      <td>1.806829e+18</td>\n",
       "      <td>2</td>\n",
       "      <td>0.0</td>\n",
       "      <td>150.55</td>\n",
       "      <td>1.515916e+18</td>\n",
       "      <td>0</td>\n",
       "      <td>0</td>\n",
       "      <td>0</td>\n",
       "      <td>8</td>\n",
       "    </tr>\n",
       "    <tr>\n",
       "      <th>6</th>\n",
       "      <td>2018-12-02 22:16:20 UTC</td>\n",
       "      <td>1925764002260976330</td>\n",
       "      <td>1835566854106513435</td>\n",
       "      <td>1</td>\n",
       "      <td>1.806829e+18</td>\n",
       "      <td>2</td>\n",
       "      <td>0.0</td>\n",
       "      <td>83.42</td>\n",
       "      <td>1.515916e+18</td>\n",
       "      <td>0</td>\n",
       "      <td>1</td>\n",
       "      <td>0</td>\n",
       "      <td>11</td>\n",
       "    </tr>\n",
       "  </tbody>\n",
       "</table>\n",
       "</div>"
      ],
      "text/plain": [
       "            Order_Datetime             Order_ID           Product_ID  \\\n",
       "1  2018-12-02 13:53:42 UTC  1925511016616034733  1842214461889315556   \n",
       "2  2018-12-02 17:44:02 UTC  1925626951238681511  1835566849434059453   \n",
       "3  2018-12-02 21:30:19 UTC  1925740842841014667  1873936840742928865   \n",
       "5  2018-12-02 22:09:34 UTC  1925760595336888995  1600021442638905547   \n",
       "6  2018-12-02 22:16:20 UTC  1925764002260976330  1835566854106513435   \n",
       "\n",
       "   SKU_Quantity   Category_ID  Category  Brand_ID  Price_USD       User_ID  \\\n",
       "1             1  1.806829e+18         4       1.0      54.66  1.515916e+18   \n",
       "2             1  1.806829e+18         4       0.0      88.90  1.515916e+18   \n",
       "3             1  1.806829e+18         3       0.0     417.67  1.515916e+18   \n",
       "5             1  1.806829e+18         2       0.0     150.55  1.515916e+18   \n",
       "6             1  1.806829e+18         2       0.0      83.42  1.515916e+18   \n",
       "\n",
       "   Target_Gender  Main_Color  Main_metal  Main_Gem  \n",
       "1              0           1           0        22  \n",
       "2              0           0           0         8  \n",
       "3              0           0           0         2  \n",
       "5              0           0           0         8  \n",
       "6              0           1           0        11  "
      ]
     },
     "execution_count": 89,
     "metadata": {},
     "output_type": "execute_result"
    }
   ],
   "source": [
    "##confirm that the features are now encoded\n",
    "\n",
    "df_category.head(5)"
   ]
  },
  {
   "cell_type": "code",
   "execution_count": 90,
   "metadata": {},
   "outputs": [],
   "source": [
    "## feature correlation\n",
    "correlation = df_category.drop(labels=[\"Order_Datetime\", \"SKU_Quantity\", \"Main_metal\"], axis = 1).corr(method = \"spearman\")"
   ]
  },
  {
   "cell_type": "code",
   "execution_count": 91,
   "metadata": {},
   "outputs": [
    {
     "data": {
      "text/html": [
       "<div>\n",
       "<style scoped>\n",
       "    .dataframe tbody tr th:only-of-type {\n",
       "        vertical-align: middle;\n",
       "    }\n",
       "\n",
       "    .dataframe tbody tr th {\n",
       "        vertical-align: top;\n",
       "    }\n",
       "\n",
       "    .dataframe thead th {\n",
       "        text-align: right;\n",
       "    }\n",
       "</style>\n",
       "<table border=\"1\" class=\"dataframe\">\n",
       "  <thead>\n",
       "    <tr style=\"text-align: right;\">\n",
       "      <th></th>\n",
       "      <th>Order_ID</th>\n",
       "      <th>Product_ID</th>\n",
       "      <th>Category_ID</th>\n",
       "      <th>Category</th>\n",
       "      <th>Brand_ID</th>\n",
       "      <th>Price_USD</th>\n",
       "      <th>User_ID</th>\n",
       "      <th>Target_Gender</th>\n",
       "      <th>Main_Color</th>\n",
       "      <th>Main_Gem</th>\n",
       "    </tr>\n",
       "  </thead>\n",
       "  <tbody>\n",
       "    <tr>\n",
       "      <th>Order_ID</th>\n",
       "      <td>1.000000</td>\n",
       "      <td>-0.063453</td>\n",
       "      <td>0.002955</td>\n",
       "      <td>-0.036750</td>\n",
       "      <td>0.000714</td>\n",
       "      <td>0.068032</td>\n",
       "      <td>0.693998</td>\n",
       "      <td>-0.014006</td>\n",
       "      <td>-0.030074</td>\n",
       "      <td>-0.007545</td>\n",
       "    </tr>\n",
       "    <tr>\n",
       "      <th>Product_ID</th>\n",
       "      <td>-0.063453</td>\n",
       "      <td>1.000000</td>\n",
       "      <td>-0.079899</td>\n",
       "      <td>0.071659</td>\n",
       "      <td>-0.211245</td>\n",
       "      <td>0.010001</td>\n",
       "      <td>-0.030058</td>\n",
       "      <td>0.012402</td>\n",
       "      <td>0.010177</td>\n",
       "      <td>-0.077768</td>\n",
       "    </tr>\n",
       "    <tr>\n",
       "      <th>Category_ID</th>\n",
       "      <td>0.002955</td>\n",
       "      <td>-0.079899</td>\n",
       "      <td>1.000000</td>\n",
       "      <td>-0.358719</td>\n",
       "      <td>0.030991</td>\n",
       "      <td>-0.235721</td>\n",
       "      <td>0.023580</td>\n",
       "      <td>-0.028720</td>\n",
       "      <td>-0.052354</td>\n",
       "      <td>0.079487</td>\n",
       "    </tr>\n",
       "    <tr>\n",
       "      <th>Category</th>\n",
       "      <td>-0.036750</td>\n",
       "      <td>0.071659</td>\n",
       "      <td>-0.358719</td>\n",
       "      <td>1.000000</td>\n",
       "      <td>0.046453</td>\n",
       "      <td>-0.026626</td>\n",
       "      <td>-0.039387</td>\n",
       "      <td>0.034694</td>\n",
       "      <td>0.054854</td>\n",
       "      <td>-0.170466</td>\n",
       "    </tr>\n",
       "    <tr>\n",
       "      <th>Brand_ID</th>\n",
       "      <td>0.000714</td>\n",
       "      <td>-0.211245</td>\n",
       "      <td>0.030991</td>\n",
       "      <td>0.046453</td>\n",
       "      <td>1.000000</td>\n",
       "      <td>0.020637</td>\n",
       "      <td>-0.007337</td>\n",
       "      <td>0.050107</td>\n",
       "      <td>-0.133118</td>\n",
       "      <td>0.028570</td>\n",
       "    </tr>\n",
       "    <tr>\n",
       "      <th>Price_USD</th>\n",
       "      <td>0.068032</td>\n",
       "      <td>0.010001</td>\n",
       "      <td>-0.235721</td>\n",
       "      <td>-0.026626</td>\n",
       "      <td>0.020637</td>\n",
       "      <td>1.000000</td>\n",
       "      <td>-0.024389</td>\n",
       "      <td>0.036195</td>\n",
       "      <td>0.165373</td>\n",
       "      <td>-0.340696</td>\n",
       "    </tr>\n",
       "    <tr>\n",
       "      <th>User_ID</th>\n",
       "      <td>0.693998</td>\n",
       "      <td>-0.030058</td>\n",
       "      <td>0.023580</td>\n",
       "      <td>-0.039387</td>\n",
       "      <td>-0.007337</td>\n",
       "      <td>-0.024389</td>\n",
       "      <td>1.000000</td>\n",
       "      <td>-0.007885</td>\n",
       "      <td>-0.027794</td>\n",
       "      <td>0.005101</td>\n",
       "    </tr>\n",
       "    <tr>\n",
       "      <th>Target_Gender</th>\n",
       "      <td>-0.014006</td>\n",
       "      <td>0.012402</td>\n",
       "      <td>-0.028720</td>\n",
       "      <td>0.034694</td>\n",
       "      <td>0.050107</td>\n",
       "      <td>0.036195</td>\n",
       "      <td>-0.007885</td>\n",
       "      <td>1.000000</td>\n",
       "      <td>-0.016105</td>\n",
       "      <td>-0.024232</td>\n",
       "    </tr>\n",
       "    <tr>\n",
       "      <th>Main_Color</th>\n",
       "      <td>-0.030074</td>\n",
       "      <td>0.010177</td>\n",
       "      <td>-0.052354</td>\n",
       "      <td>0.054854</td>\n",
       "      <td>-0.133118</td>\n",
       "      <td>0.165373</td>\n",
       "      <td>-0.027794</td>\n",
       "      <td>-0.016105</td>\n",
       "      <td>1.000000</td>\n",
       "      <td>-0.150451</td>\n",
       "    </tr>\n",
       "    <tr>\n",
       "      <th>Main_Gem</th>\n",
       "      <td>-0.007545</td>\n",
       "      <td>-0.077768</td>\n",
       "      <td>0.079487</td>\n",
       "      <td>-0.170466</td>\n",
       "      <td>0.028570</td>\n",
       "      <td>-0.340696</td>\n",
       "      <td>0.005101</td>\n",
       "      <td>-0.024232</td>\n",
       "      <td>-0.150451</td>\n",
       "      <td>1.000000</td>\n",
       "    </tr>\n",
       "  </tbody>\n",
       "</table>\n",
       "</div>"
      ],
      "text/plain": [
       "               Order_ID  Product_ID  Category_ID  Category  Brand_ID  \\\n",
       "Order_ID       1.000000   -0.063453     0.002955 -0.036750  0.000714   \n",
       "Product_ID    -0.063453    1.000000    -0.079899  0.071659 -0.211245   \n",
       "Category_ID    0.002955   -0.079899     1.000000 -0.358719  0.030991   \n",
       "Category      -0.036750    0.071659    -0.358719  1.000000  0.046453   \n",
       "Brand_ID       0.000714   -0.211245     0.030991  0.046453  1.000000   \n",
       "Price_USD      0.068032    0.010001    -0.235721 -0.026626  0.020637   \n",
       "User_ID        0.693998   -0.030058     0.023580 -0.039387 -0.007337   \n",
       "Target_Gender -0.014006    0.012402    -0.028720  0.034694  0.050107   \n",
       "Main_Color    -0.030074    0.010177    -0.052354  0.054854 -0.133118   \n",
       "Main_Gem      -0.007545   -0.077768     0.079487 -0.170466  0.028570   \n",
       "\n",
       "               Price_USD   User_ID  Target_Gender  Main_Color  Main_Gem  \n",
       "Order_ID        0.068032  0.693998      -0.014006   -0.030074 -0.007545  \n",
       "Product_ID      0.010001 -0.030058       0.012402    0.010177 -0.077768  \n",
       "Category_ID    -0.235721  0.023580      -0.028720   -0.052354  0.079487  \n",
       "Category       -0.026626 -0.039387       0.034694    0.054854 -0.170466  \n",
       "Brand_ID        0.020637 -0.007337       0.050107   -0.133118  0.028570  \n",
       "Price_USD       1.000000 -0.024389       0.036195    0.165373 -0.340696  \n",
       "User_ID        -0.024389  1.000000      -0.007885   -0.027794  0.005101  \n",
       "Target_Gender   0.036195 -0.007885       1.000000   -0.016105 -0.024232  \n",
       "Main_Color      0.165373 -0.027794      -0.016105    1.000000 -0.150451  \n",
       "Main_Gem       -0.340696  0.005101      -0.024232   -0.150451  1.000000  "
      ]
     },
     "execution_count": 91,
     "metadata": {},
     "output_type": "execute_result"
    }
   ],
   "source": [
    "correlation"
   ]
  },
  {
   "cell_type": "code",
   "execution_count": 92,
   "metadata": {},
   "outputs": [
    {
     "data": {
      "image/png": "[encoded data removed]",
      "text/plain": [
       "<Figure size 1000x1000 with 2 Axes>"
      ]
     },
     "metadata": {},
     "output_type": "display_data"
    }
   ],
   "source": [
    "## correlation heatmap\n",
    "\n",
    "plt.figure(figsize = (10,10))\n",
    "\n",
    "sns.heatmap(correlation, annot = True, center = .3)\n",
    "\n",
    "plt.show(); plt.close()"
   ]
  },
  {
   "cell_type": "code",
   "execution_count": 93,
   "metadata": {},
   "outputs": [
    {
     "data": {
      "text/plain": [
       "['SKU_Quantity', 'Main_metal']"
      ]
     },
     "execution_count": 93,
     "metadata": {},
     "output_type": "execute_result"
    }
   ],
   "source": [
    "invariant_column = df_category.nunique()[df_category.nunique() == 1].index.tolist()\n",
    "invariant_column"
   ]
  },
  {
   "cell_type": "code",
   "execution_count": 94,
   "metadata": {},
   "outputs": [],
   "source": [
    "## Drop columns with nunique == 1\n",
    "\n",
    "df_category.drop(labels=invariant_column, axis = 1, inplace=True)"
   ]
  },
  {
   "cell_type": "code",
   "execution_count": 95,
   "metadata": {},
   "outputs": [],
   "source": [
    "columns_to_eliminate = [\"Order_Datetime\", \"Order_ID\", \"Product_ID\", \"Category_ID\", \"User_ID\"]"
   ]
  },
  {
   "cell_type": "code",
   "execution_count": 96,
   "metadata": {},
   "outputs": [],
   "source": [
    "df_category.drop(labels=columns_to_eliminate, axis = 1, inplace=True)"
   ]
  },
  {
   "cell_type": "code",
   "execution_count": 97,
   "metadata": {},
   "outputs": [
    {
     "data": {
      "text/html": [
       "<div>\n",
       "<style scoped>\n",
       "    .dataframe tbody tr th:only-of-type {\n",
       "        vertical-align: middle;\n",
       "    }\n",
       "\n",
       "    .dataframe tbody tr th {\n",
       "        vertical-align: top;\n",
       "    }\n",
       "\n",
       "    .dataframe thead th {\n",
       "        text-align: right;\n",
       "    }\n",
       "</style>\n",
       "<table border=\"1\" class=\"dataframe\">\n",
       "  <thead>\n",
       "    <tr style=\"text-align: right;\">\n",
       "      <th></th>\n",
       "      <th>Category</th>\n",
       "      <th>Brand_ID</th>\n",
       "      <th>Price_USD</th>\n",
       "      <th>Target_Gender</th>\n",
       "      <th>Main_Color</th>\n",
       "      <th>Main_Gem</th>\n",
       "    </tr>\n",
       "  </thead>\n",
       "  <tbody>\n",
       "    <tr>\n",
       "      <th>1</th>\n",
       "      <td>4</td>\n",
       "      <td>1.0</td>\n",
       "      <td>54.66</td>\n",
       "      <td>0</td>\n",
       "      <td>1</td>\n",
       "      <td>22</td>\n",
       "    </tr>\n",
       "    <tr>\n",
       "      <th>2</th>\n",
       "      <td>4</td>\n",
       "      <td>0.0</td>\n",
       "      <td>88.90</td>\n",
       "      <td>0</td>\n",
       "      <td>0</td>\n",
       "      <td>8</td>\n",
       "    </tr>\n",
       "    <tr>\n",
       "      <th>3</th>\n",
       "      <td>3</td>\n",
       "      <td>0.0</td>\n",
       "      <td>417.67</td>\n",
       "      <td>0</td>\n",
       "      <td>0</td>\n",
       "      <td>2</td>\n",
       "    </tr>\n",
       "    <tr>\n",
       "      <th>5</th>\n",
       "      <td>2</td>\n",
       "      <td>0.0</td>\n",
       "      <td>150.55</td>\n",
       "      <td>0</td>\n",
       "      <td>0</td>\n",
       "      <td>8</td>\n",
       "    </tr>\n",
       "    <tr>\n",
       "      <th>6</th>\n",
       "      <td>2</td>\n",
       "      <td>0.0</td>\n",
       "      <td>83.42</td>\n",
       "      <td>0</td>\n",
       "      <td>1</td>\n",
       "      <td>11</td>\n",
       "    </tr>\n",
       "  </tbody>\n",
       "</table>\n",
       "</div>"
      ],
      "text/plain": [
       "   Category  Brand_ID  Price_USD  Target_Gender  Main_Color  Main_Gem\n",
       "1         4       1.0      54.66              0           1        22\n",
       "2         4       0.0      88.90              0           0         8\n",
       "3         3       0.0     417.67              0           0         2\n",
       "5         2       0.0     150.55              0           0         8\n",
       "6         2       0.0      83.42              0           1        11"
      ]
     },
     "execution_count": 97,
     "metadata": {},
     "output_type": "execute_result"
    }
   ],
   "source": [
    "df_category.head(5)"
   ]
  },
  {
   "cell_type": "code",
   "execution_count": 98,
   "metadata": {},
   "outputs": [],
   "source": [
    "### Seperate label from the rest of the data\n",
    "\n",
    "df1 = df_category[[\"Category\", \"Brand_ID\", \"Target_Gender\", \"Main_Color\", \"Main_Gem\"]]\n",
    "label = df_category[[\"Price_USD\"]]"
   ]
  },
  {
   "cell_type": "code",
   "execution_count": 99,
   "metadata": {},
   "outputs": [
    {
     "data": {
      "text/html": [
       "<div>\n",
       "<style scoped>\n",
       "    .dataframe tbody tr th:only-of-type {\n",
       "        vertical-align: middle;\n",
       "    }\n",
       "\n",
       "    .dataframe tbody tr th {\n",
       "        vertical-align: top;\n",
       "    }\n",
       "\n",
       "    .dataframe thead th {\n",
       "        text-align: right;\n",
       "    }\n",
       "</style>\n",
       "<table border=\"1\" class=\"dataframe\">\n",
       "  <thead>\n",
       "    <tr style=\"text-align: right;\">\n",
       "      <th></th>\n",
       "      <th>Category</th>\n",
       "      <th>Brand_ID</th>\n",
       "      <th>Target_Gender</th>\n",
       "      <th>Main_Color</th>\n",
       "      <th>Main_Gem</th>\n",
       "    </tr>\n",
       "  </thead>\n",
       "  <tbody>\n",
       "    <tr>\n",
       "      <th>1</th>\n",
       "      <td>4</td>\n",
       "      <td>1.0</td>\n",
       "      <td>0</td>\n",
       "      <td>1</td>\n",
       "      <td>22</td>\n",
       "    </tr>\n",
       "    <tr>\n",
       "      <th>2</th>\n",
       "      <td>4</td>\n",
       "      <td>0.0</td>\n",
       "      <td>0</td>\n",
       "      <td>0</td>\n",
       "      <td>8</td>\n",
       "    </tr>\n",
       "    <tr>\n",
       "      <th>3</th>\n",
       "      <td>3</td>\n",
       "      <td>0.0</td>\n",
       "      <td>0</td>\n",
       "      <td>0</td>\n",
       "      <td>2</td>\n",
       "    </tr>\n",
       "    <tr>\n",
       "      <th>5</th>\n",
       "      <td>2</td>\n",
       "      <td>0.0</td>\n",
       "      <td>0</td>\n",
       "      <td>0</td>\n",
       "      <td>8</td>\n",
       "    </tr>\n",
       "    <tr>\n",
       "      <th>6</th>\n",
       "      <td>2</td>\n",
       "      <td>0.0</td>\n",
       "      <td>0</td>\n",
       "      <td>1</td>\n",
       "      <td>11</td>\n",
       "    </tr>\n",
       "  </tbody>\n",
       "</table>\n",
       "</div>"
      ],
      "text/plain": [
       "   Category  Brand_ID  Target_Gender  Main_Color  Main_Gem\n",
       "1         4       1.0              0           1        22\n",
       "2         4       0.0              0           0         8\n",
       "3         3       0.0              0           0         2\n",
       "5         2       0.0              0           0         8\n",
       "6         2       0.0              0           1        11"
      ]
     },
     "execution_count": 99,
     "metadata": {},
     "output_type": "execute_result"
    }
   ],
   "source": [
    "df1.head(5)"
   ]
  },
  {
   "cell_type": "code",
   "execution_count": 100,
   "metadata": {},
   "outputs": [
    {
     "data": {
      "text/html": [
       "<div>\n",
       "<style scoped>\n",
       "    .dataframe tbody tr th:only-of-type {\n",
       "        vertical-align: middle;\n",
       "    }\n",
       "\n",
       "    .dataframe tbody tr th {\n",
       "        vertical-align: top;\n",
       "    }\n",
       "\n",
       "    .dataframe thead th {\n",
       "        text-align: right;\n",
       "    }\n",
       "</style>\n",
       "<table border=\"1\" class=\"dataframe\">\n",
       "  <thead>\n",
       "    <tr style=\"text-align: right;\">\n",
       "      <th></th>\n",
       "      <th>Price_USD</th>\n",
       "    </tr>\n",
       "  </thead>\n",
       "  <tbody>\n",
       "    <tr>\n",
       "      <th>1</th>\n",
       "      <td>54.66</td>\n",
       "    </tr>\n",
       "    <tr>\n",
       "      <th>2</th>\n",
       "      <td>88.90</td>\n",
       "    </tr>\n",
       "    <tr>\n",
       "      <th>3</th>\n",
       "      <td>417.67</td>\n",
       "    </tr>\n",
       "    <tr>\n",
       "      <th>5</th>\n",
       "      <td>150.55</td>\n",
       "    </tr>\n",
       "    <tr>\n",
       "      <th>6</th>\n",
       "      <td>83.42</td>\n",
       "    </tr>\n",
       "  </tbody>\n",
       "</table>\n",
       "</div>"
      ],
      "text/plain": [
       "   Price_USD\n",
       "1      54.66\n",
       "2      88.90\n",
       "3     417.67\n",
       "5     150.55\n",
       "6      83.42"
      ]
     },
     "execution_count": 100,
     "metadata": {},
     "output_type": "execute_result"
    }
   ],
   "source": [
    "label.head(5)"
   ]
  },
  {
   "cell_type": "markdown",
   "metadata": {},
   "source": [
    "## Machine Learning"
   ]
  },
  {
   "cell_type": "code",
   "execution_count": 101,
   "metadata": {},
   "outputs": [],
   "source": [
    "## import \n",
    "from sklearn.preprocessing import OrdinalEncoder, LabelEncoder, OneHotEncoder\n",
    "from sklearn.compose import TransformedTargetRegressor, ColumnTransformer\n",
    "from sklearn.impute import SimpleImputer\n",
    "\n",
    "\n",
    "#Evaluation metrics\n",
    "from sklearn.metrics import accuracy_score, precision_score, recall_score, roc_auc_score\n",
    "from sklearn.metrics import confusion_matrix\n",
    "from sklearn.metrics import mean_squared_error, mean_absolute_error, r2_score\n",
    "\n",
    "\n",
    "# for data preprocessing\n",
    "from sklearn.model_selection import train_test_split\n",
    "\n",
    "# Classifier Libraries\n",
    "from sklearn.linear_model import LinearRegression\n",
    "from sklearn.ensemble import AdaBoostRegressor, ExtraTreesRegressor\n",
    "from catboost import CatBoostRegressor\n",
    "\n",
    "from sklearn.preprocessing import PowerTransformer\n",
    "\n"
   ]
  },
  {
   "cell_type": "code",
   "execution_count": 102,
   "metadata": {},
   "outputs": [],
   "source": [
    "import mlflow\n",
    "import mlflow.sklearn  # Use the relevant MLflow module for your model type\n",
    "import os"
   ]
  },
  {
   "cell_type": "code",
   "execution_count": 103,
   "metadata": {},
   "outputs": [
    {
     "name": "stderr",
     "output_type": "stream",
     "text": [
      "WARNING:root:Malformed experiment '532796786432742341'. Detailed error Yaml file '/Users/xlade/Desktop/Amdari/Internship/Jewelry_Price_Optimization/mlruns_storage/532796786432742341/meta.yaml' does not exist.\n",
      "Traceback (most recent call last):\n",
      "  File \"/Users/xlade/Library/Python/3.9/lib/python/site-packages/mlflow/store/tracking/file_store.py\", line 328, in search_experiments\n",
      "    exp = self._get_experiment(exp_id, view_type)\n",
      "  File \"/Users/xlade/Library/Python/3.9/lib/python/site-packages/mlflow/store/tracking/file_store.py\", line 422, in _get_experiment\n",
      "    meta = FileStore._read_yaml(experiment_dir, FileStore.META_DATA_FILE_NAME)\n",
      "  File \"/Users/xlade/Library/Python/3.9/lib/python/site-packages/mlflow/store/tracking/file_store.py\", line 1368, in _read_yaml\n",
      "    return _read_helper(root, file_name, attempts_remaining=retries)\n",
      "  File \"/Users/xlade/Library/Python/3.9/lib/python/site-packages/mlflow/store/tracking/file_store.py\", line 1361, in _read_helper\n",
      "    result = read_yaml(root, file_name)\n",
      "  File \"/Users/xlade/Library/Python/3.9/lib/python/site-packages/mlflow/utils/file_utils.py\", line 310, in read_yaml\n",
      "    raise MissingConfigException(f\"Yaml file '{file_path}' does not exist.\")\n",
      "mlflow.exceptions.MissingConfigException: Yaml file '/Users/xlade/Desktop/Amdari/Internship/Jewelry_Price_Optimization/mlruns_storage/532796786432742341/meta.yaml' does not exist.\n"
     ]
    },
    {
     "data": {
      "text/plain": [
       "<Experiment: artifact_location='file:///Users/xlade/Desktop/Amdari/Internship/Jewelry_Price_Optimization/mlruns_storage/695669335625361237', creation_time=1733439765337, experiment_id='695669335625361237', last_update_time=1733439765337, lifecycle_stage='active', name='Test_Experiment', tags={}>"
      ]
     },
     "execution_count": 103,
     "metadata": {},
     "output_type": "execute_result"
    }
   ],
   "source": [
    "\n",
    "# Set the tracking URI to the new folder inside Jewelry_Price_Optimization\n",
    "mlflow.set_tracking_uri(\"file:///Users/xlade/Desktop/Amdari/Internship/Jewelry_Price_Optimization/mlruns_storage\")\n",
    "mlflow.set_experiment(\"Test_Experiment\")"
   ]
  },
  {
   "cell_type": "code",
   "execution_count": 104,
   "metadata": {},
   "outputs": [],
   "source": [
    "# split the dataset into training and test sets x = questions, Y = Answers\n",
    "\n",
    "X_train, X_test, y_train, y_test = train_test_split(df1, label, test_size = 0.1, random_state = 42)"
   ]
  },
  {
   "cell_type": "code",
   "execution_count": 105,
   "metadata": {},
   "outputs": [
    {
     "name": "stdout",
     "output_type": "stream",
     "text": [
      "Linear Regression\n",
      "Mean Absolute Error: 241.02024140008916\n",
      "Mean Squared Error: 278047.4961106009\n",
      "R2 Score: 0.038900549467926315\n"
     ]
    }
   ],
   "source": [
    "# module building\n",
    "\n",
    "#logistic regression\n",
    "\n",
    "linreg = LinearRegression()\n",
    "\n",
    "linreg.fit(X_train, y_train)\n",
    "\n",
    "lin_y_pred = linreg.predict(X_test)\n",
    "\n",
    "print(\"Linear Regression\")\n",
    "\n",
    "print(\"Mean Absolute Error:\", mean_absolute_error(y_test, lin_y_pred))\n",
    "print(\"Mean Squared Error:\", mean_squared_error(y_test, lin_y_pred))\n",
    "print(\"R2 Score:\", r2_score(y_test, lin_y_pred))\n",
    "#print(\"Accuracy:\", accuracy_score(y_test, lin_y_pred))\n",
    "#print(\"Precision:\", precision_score(y_test, lin_y_pred))\n",
    "#print(\"Recall:\", recall_score(y_test, lin_y_pred))\n",
    "#print(\"F1-score:\", f1_score(y_test, lin_y_pred))\n",
    "#print(\"AUC-ROC:\", roc_auc_score(y_test, lin_y_pred))"
   ]
  },
  {
   "cell_type": "code",
   "execution_count": 106,
   "metadata": {},
   "outputs": [
    {
     "name": "stdout",
     "output_type": "stream",
     "text": [
      "Adaboost Regression\n",
      "Mean Absolute Error: 261.35213266247285\n",
      "Mean Squared Error: 210860.99916197802\n",
      "R2 Score: 0.27113750971305894\n"
     ]
    }
   ],
   "source": [
    "# module building\n",
    "\n",
    "#Adaboost regression\n",
    "\n",
    "adaboost = AdaBoostRegressor(loss = \"exponential\", n_estimators=1000, learning_rate=0.1)\n",
    "\n",
    "adaboost.fit(X_train, y_train)\n",
    "\n",
    "adaboost_y_pred = adaboost.predict(X_test)\n",
    "\n",
    "print(\"Adaboost Regression\")\n",
    "\n",
    "print(\"Mean Absolute Error:\", mean_absolute_error(y_test, adaboost_y_pred))\n",
    "print(\"Mean Squared Error:\", mean_squared_error(y_test, adaboost_y_pred))\n",
    "print(\"R2 Score:\", r2_score(y_test, adaboost_y_pred))\n"
   ]
  },
  {
   "cell_type": "code",
   "execution_count": 107,
   "metadata": {},
   "outputs": [
    {
     "name": "stdout",
     "output_type": "stream",
     "text": [
      "Catboost Regression\n",
      "Mean Absolute Error: 181.85926599614933\n",
      "Mean Squared Error: 176924.44526469114\n",
      "R2 Score: 0.38844265994775284\n"
     ]
    }
   ],
   "source": [
    "# module building\n",
    "\n",
    "#Catboost regression\n",
    "\n",
    "catboost = CatBoostRegressor(loss_function = \"RMSE\", iterations=10000, learning_rate=0.1, one_hot_max_size = 2, depth=6, verbose=0)\n",
    "\n",
    "catboost.fit(X_train, y_train)\n",
    "\n",
    "catboost_y_pred = catboost.predict(X_test)\n",
    "\n",
    "print(\"Catboost Regression\")\n",
    "\n",
    "print(\"Mean Absolute Error:\", mean_absolute_error(y_test, catboost_y_pred))\n",
    "print(\"Mean Squared Error:\", mean_squared_error(y_test, catboost_y_pred))\n",
    "print(\"R2 Score:\", r2_score(y_test, catboost_y_pred))\n"
   ]
  },
  {
   "cell_type": "code",
   "execution_count": 108,
   "metadata": {},
   "outputs": [
    {
     "name": "stdout",
     "output_type": "stream",
     "text": [
      "Extra Tree Regressor\n",
      "Mean Absolute Error: 185.79052122879895\n",
      "Mean Squared Error: 179938.416678791\n",
      "R2 Score: 0.3780245612037221\n"
     ]
    }
   ],
   "source": [
    "# module building\n",
    "\n",
    "#Extra Trees regression\n",
    "\n",
    "ext = ExtraTreesRegressor(criterion=\"friedman_mse\", n_estimators=1000, bootstrap = True, max_depth=10)\n",
    "\n",
    "ext.fit(X_train, y_train)\n",
    "\n",
    "ext_y_pred = ext.predict(X_test)\n",
    "\n",
    "print(\"Extra Tree Regressor\")\n",
    "\n",
    "print(\"Mean Absolute Error:\", mean_absolute_error(y_test, ext_y_pred))\n",
    "print(\"Mean Squared Error:\", mean_squared_error(y_test, ext_y_pred))\n",
    "print(\"R2 Score:\", r2_score(y_test, ext_y_pred))\n"
   ]
  },
  {
   "cell_type": "code",
   "execution_count": null,
   "metadata": {},
   "outputs": [],
   "source": []
  },
  {
   "cell_type": "code",
   "execution_count": null,
   "metadata": {},
   "outputs": [],
   "source": []
  },
  {
   "cell_type": "code",
   "execution_count": null,
   "metadata": {},
   "outputs": [],
   "source": []
  },
  {
   "cell_type": "code",
   "execution_count": null,
   "metadata": {},
   "outputs": [],
   "source": []
  }
 ],
 "metadata": {
  "kernelspec": {
   "display_name": "Python 3",
   "language": "python",
   "name": "python3"
  },
  "language_info": {
   "codemirror_mode": {
    "name": "ipython",
    "version": 3
   },
   "file_extension": ".py",
   "mimetype": "text/x-python",
   "name": "python",
   "nbconvert_exporter": "python",
   "pygments_lexer": "ipython3",
   "version": "3.9.6"
  }
 },
 "nbformat": 4,
 "nbformat_minor": 2
}
